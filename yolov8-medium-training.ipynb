{
 "cells": [
  {
   "cell_type": "code",
   "execution_count": 5,
   "metadata": {},
   "outputs": [],
   "source": [
    "from ultralytics import YOLO\n",
    "import matplotlib.pyplot as plt"
   ]
  },
  {
   "cell_type": "code",
   "execution_count": 6,
   "metadata": {},
   "outputs": [
    {
     "data": {
      "text/plain": [
       "YOLO(\n",
       "  (model): DetectionModel(\n",
       "    (model): Sequential(\n",
       "      (0): Conv(\n",
       "        (conv): Conv2d(3, 48, kernel_size=(3, 3), stride=(2, 2), padding=(1, 1), bias=False)\n",
       "        (bn): BatchNorm2d(48, eps=0.001, momentum=0.03, affine=True, track_running_stats=True)\n",
       "        (act): SiLU(inplace=True)\n",
       "      )\n",
       "      (1): Conv(\n",
       "        (conv): Conv2d(48, 96, kernel_size=(3, 3), stride=(2, 2), padding=(1, 1), bias=False)\n",
       "        (bn): BatchNorm2d(96, eps=0.001, momentum=0.03, affine=True, track_running_stats=True)\n",
       "        (act): SiLU(inplace=True)\n",
       "      )\n",
       "      (2): C2f(\n",
       "        (cv1): Conv(\n",
       "          (conv): Conv2d(96, 96, kernel_size=(1, 1), stride=(1, 1), bias=False)\n",
       "          (bn): BatchNorm2d(96, eps=0.001, momentum=0.03, affine=True, track_running_stats=True)\n",
       "          (act): SiLU(inplace=True)\n",
       "        )\n",
       "        (cv2): Conv(\n",
       "          (conv): Conv2d(192, 96, kernel_size=(1, 1), stride=(1, 1), bias=False)\n",
       "          (bn): BatchNorm2d(96, eps=0.001, momentum=0.03, affine=True, track_running_stats=True)\n",
       "          (act): SiLU(inplace=True)\n",
       "        )\n",
       "        (m): ModuleList(\n",
       "          (0-1): 2 x Bottleneck(\n",
       "            (cv1): Conv(\n",
       "              (conv): Conv2d(48, 48, kernel_size=(3, 3), stride=(1, 1), padding=(1, 1), bias=False)\n",
       "              (bn): BatchNorm2d(48, eps=0.001, momentum=0.03, affine=True, track_running_stats=True)\n",
       "              (act): SiLU(inplace=True)\n",
       "            )\n",
       "            (cv2): Conv(\n",
       "              (conv): Conv2d(48, 48, kernel_size=(3, 3), stride=(1, 1), padding=(1, 1), bias=False)\n",
       "              (bn): BatchNorm2d(48, eps=0.001, momentum=0.03, affine=True, track_running_stats=True)\n",
       "              (act): SiLU(inplace=True)\n",
       "            )\n",
       "          )\n",
       "        )\n",
       "      )\n",
       "      (3): Conv(\n",
       "        (conv): Conv2d(96, 192, kernel_size=(3, 3), stride=(2, 2), padding=(1, 1), bias=False)\n",
       "        (bn): BatchNorm2d(192, eps=0.001, momentum=0.03, affine=True, track_running_stats=True)\n",
       "        (act): SiLU(inplace=True)\n",
       "      )\n",
       "      (4): C2f(\n",
       "        (cv1): Conv(\n",
       "          (conv): Conv2d(192, 192, kernel_size=(1, 1), stride=(1, 1), bias=False)\n",
       "          (bn): BatchNorm2d(192, eps=0.001, momentum=0.03, affine=True, track_running_stats=True)\n",
       "          (act): SiLU(inplace=True)\n",
       "        )\n",
       "        (cv2): Conv(\n",
       "          (conv): Conv2d(576, 192, kernel_size=(1, 1), stride=(1, 1), bias=False)\n",
       "          (bn): BatchNorm2d(192, eps=0.001, momentum=0.03, affine=True, track_running_stats=True)\n",
       "          (act): SiLU(inplace=True)\n",
       "        )\n",
       "        (m): ModuleList(\n",
       "          (0-3): 4 x Bottleneck(\n",
       "            (cv1): Conv(\n",
       "              (conv): Conv2d(96, 96, kernel_size=(3, 3), stride=(1, 1), padding=(1, 1), bias=False)\n",
       "              (bn): BatchNorm2d(96, eps=0.001, momentum=0.03, affine=True, track_running_stats=True)\n",
       "              (act): SiLU(inplace=True)\n",
       "            )\n",
       "            (cv2): Conv(\n",
       "              (conv): Conv2d(96, 96, kernel_size=(3, 3), stride=(1, 1), padding=(1, 1), bias=False)\n",
       "              (bn): BatchNorm2d(96, eps=0.001, momentum=0.03, affine=True, track_running_stats=True)\n",
       "              (act): SiLU(inplace=True)\n",
       "            )\n",
       "          )\n",
       "        )\n",
       "      )\n",
       "      (5): Conv(\n",
       "        (conv): Conv2d(192, 384, kernel_size=(3, 3), stride=(2, 2), padding=(1, 1), bias=False)\n",
       "        (bn): BatchNorm2d(384, eps=0.001, momentum=0.03, affine=True, track_running_stats=True)\n",
       "        (act): SiLU(inplace=True)\n",
       "      )\n",
       "      (6): C2f(\n",
       "        (cv1): Conv(\n",
       "          (conv): Conv2d(384, 384, kernel_size=(1, 1), stride=(1, 1), bias=False)\n",
       "          (bn): BatchNorm2d(384, eps=0.001, momentum=0.03, affine=True, track_running_stats=True)\n",
       "          (act): SiLU(inplace=True)\n",
       "        )\n",
       "        (cv2): Conv(\n",
       "          (conv): Conv2d(1152, 384, kernel_size=(1, 1), stride=(1, 1), bias=False)\n",
       "          (bn): BatchNorm2d(384, eps=0.001, momentum=0.03, affine=True, track_running_stats=True)\n",
       "          (act): SiLU(inplace=True)\n",
       "        )\n",
       "        (m): ModuleList(\n",
       "          (0-3): 4 x Bottleneck(\n",
       "            (cv1): Conv(\n",
       "              (conv): Conv2d(192, 192, kernel_size=(3, 3), stride=(1, 1), padding=(1, 1), bias=False)\n",
       "              (bn): BatchNorm2d(192, eps=0.001, momentum=0.03, affine=True, track_running_stats=True)\n",
       "              (act): SiLU(inplace=True)\n",
       "            )\n",
       "            (cv2): Conv(\n",
       "              (conv): Conv2d(192, 192, kernel_size=(3, 3), stride=(1, 1), padding=(1, 1), bias=False)\n",
       "              (bn): BatchNorm2d(192, eps=0.001, momentum=0.03, affine=True, track_running_stats=True)\n",
       "              (act): SiLU(inplace=True)\n",
       "            )\n",
       "          )\n",
       "        )\n",
       "      )\n",
       "      (7): Conv(\n",
       "        (conv): Conv2d(384, 576, kernel_size=(3, 3), stride=(2, 2), padding=(1, 1), bias=False)\n",
       "        (bn): BatchNorm2d(576, eps=0.001, momentum=0.03, affine=True, track_running_stats=True)\n",
       "        (act): SiLU(inplace=True)\n",
       "      )\n",
       "      (8): C2f(\n",
       "        (cv1): Conv(\n",
       "          (conv): Conv2d(576, 576, kernel_size=(1, 1), stride=(1, 1), bias=False)\n",
       "          (bn): BatchNorm2d(576, eps=0.001, momentum=0.03, affine=True, track_running_stats=True)\n",
       "          (act): SiLU(inplace=True)\n",
       "        )\n",
       "        (cv2): Conv(\n",
       "          (conv): Conv2d(1152, 576, kernel_size=(1, 1), stride=(1, 1), bias=False)\n",
       "          (bn): BatchNorm2d(576, eps=0.001, momentum=0.03, affine=True, track_running_stats=True)\n",
       "          (act): SiLU(inplace=True)\n",
       "        )\n",
       "        (m): ModuleList(\n",
       "          (0-1): 2 x Bottleneck(\n",
       "            (cv1): Conv(\n",
       "              (conv): Conv2d(288, 288, kernel_size=(3, 3), stride=(1, 1), padding=(1, 1), bias=False)\n",
       "              (bn): BatchNorm2d(288, eps=0.001, momentum=0.03, affine=True, track_running_stats=True)\n",
       "              (act): SiLU(inplace=True)\n",
       "            )\n",
       "            (cv2): Conv(\n",
       "              (conv): Conv2d(288, 288, kernel_size=(3, 3), stride=(1, 1), padding=(1, 1), bias=False)\n",
       "              (bn): BatchNorm2d(288, eps=0.001, momentum=0.03, affine=True, track_running_stats=True)\n",
       "              (act): SiLU(inplace=True)\n",
       "            )\n",
       "          )\n",
       "        )\n",
       "      )\n",
       "      (9): SPPF(\n",
       "        (cv1): Conv(\n",
       "          (conv): Conv2d(576, 288, kernel_size=(1, 1), stride=(1, 1), bias=False)\n",
       "          (bn): BatchNorm2d(288, eps=0.001, momentum=0.03, affine=True, track_running_stats=True)\n",
       "          (act): SiLU(inplace=True)\n",
       "        )\n",
       "        (cv2): Conv(\n",
       "          (conv): Conv2d(1152, 576, kernel_size=(1, 1), stride=(1, 1), bias=False)\n",
       "          (bn): BatchNorm2d(576, eps=0.001, momentum=0.03, affine=True, track_running_stats=True)\n",
       "          (act): SiLU(inplace=True)\n",
       "        )\n",
       "        (m): MaxPool2d(kernel_size=5, stride=1, padding=2, dilation=1, ceil_mode=False)\n",
       "      )\n",
       "      (10): Upsample(scale_factor=2.0, mode='nearest')\n",
       "      (11): Concat()\n",
       "      (12): C2f(\n",
       "        (cv1): Conv(\n",
       "          (conv): Conv2d(960, 384, kernel_size=(1, 1), stride=(1, 1), bias=False)\n",
       "          (bn): BatchNorm2d(384, eps=0.001, momentum=0.03, affine=True, track_running_stats=True)\n",
       "          (act): SiLU(inplace=True)\n",
       "        )\n",
       "        (cv2): Conv(\n",
       "          (conv): Conv2d(768, 384, kernel_size=(1, 1), stride=(1, 1), bias=False)\n",
       "          (bn): BatchNorm2d(384, eps=0.001, momentum=0.03, affine=True, track_running_stats=True)\n",
       "          (act): SiLU(inplace=True)\n",
       "        )\n",
       "        (m): ModuleList(\n",
       "          (0-1): 2 x Bottleneck(\n",
       "            (cv1): Conv(\n",
       "              (conv): Conv2d(192, 192, kernel_size=(3, 3), stride=(1, 1), padding=(1, 1), bias=False)\n",
       "              (bn): BatchNorm2d(192, eps=0.001, momentum=0.03, affine=True, track_running_stats=True)\n",
       "              (act): SiLU(inplace=True)\n",
       "            )\n",
       "            (cv2): Conv(\n",
       "              (conv): Conv2d(192, 192, kernel_size=(3, 3), stride=(1, 1), padding=(1, 1), bias=False)\n",
       "              (bn): BatchNorm2d(192, eps=0.001, momentum=0.03, affine=True, track_running_stats=True)\n",
       "              (act): SiLU(inplace=True)\n",
       "            )\n",
       "          )\n",
       "        )\n",
       "      )\n",
       "      (13): Upsample(scale_factor=2.0, mode='nearest')\n",
       "      (14): Concat()\n",
       "      (15): C2f(\n",
       "        (cv1): Conv(\n",
       "          (conv): Conv2d(576, 192, kernel_size=(1, 1), stride=(1, 1), bias=False)\n",
       "          (bn): BatchNorm2d(192, eps=0.001, momentum=0.03, affine=True, track_running_stats=True)\n",
       "          (act): SiLU(inplace=True)\n",
       "        )\n",
       "        (cv2): Conv(\n",
       "          (conv): Conv2d(384, 192, kernel_size=(1, 1), stride=(1, 1), bias=False)\n",
       "          (bn): BatchNorm2d(192, eps=0.001, momentum=0.03, affine=True, track_running_stats=True)\n",
       "          (act): SiLU(inplace=True)\n",
       "        )\n",
       "        (m): ModuleList(\n",
       "          (0-1): 2 x Bottleneck(\n",
       "            (cv1): Conv(\n",
       "              (conv): Conv2d(96, 96, kernel_size=(3, 3), stride=(1, 1), padding=(1, 1), bias=False)\n",
       "              (bn): BatchNorm2d(96, eps=0.001, momentum=0.03, affine=True, track_running_stats=True)\n",
       "              (act): SiLU(inplace=True)\n",
       "            )\n",
       "            (cv2): Conv(\n",
       "              (conv): Conv2d(96, 96, kernel_size=(3, 3), stride=(1, 1), padding=(1, 1), bias=False)\n",
       "              (bn): BatchNorm2d(96, eps=0.001, momentum=0.03, affine=True, track_running_stats=True)\n",
       "              (act): SiLU(inplace=True)\n",
       "            )\n",
       "          )\n",
       "        )\n",
       "      )\n",
       "      (16): Conv(\n",
       "        (conv): Conv2d(192, 192, kernel_size=(3, 3), stride=(2, 2), padding=(1, 1), bias=False)\n",
       "        (bn): BatchNorm2d(192, eps=0.001, momentum=0.03, affine=True, track_running_stats=True)\n",
       "        (act): SiLU(inplace=True)\n",
       "      )\n",
       "      (17): Concat()\n",
       "      (18): C2f(\n",
       "        (cv1): Conv(\n",
       "          (conv): Conv2d(576, 384, kernel_size=(1, 1), stride=(1, 1), bias=False)\n",
       "          (bn): BatchNorm2d(384, eps=0.001, momentum=0.03, affine=True, track_running_stats=True)\n",
       "          (act): SiLU(inplace=True)\n",
       "        )\n",
       "        (cv2): Conv(\n",
       "          (conv): Conv2d(768, 384, kernel_size=(1, 1), stride=(1, 1), bias=False)\n",
       "          (bn): BatchNorm2d(384, eps=0.001, momentum=0.03, affine=True, track_running_stats=True)\n",
       "          (act): SiLU(inplace=True)\n",
       "        )\n",
       "        (m): ModuleList(\n",
       "          (0-1): 2 x Bottleneck(\n",
       "            (cv1): Conv(\n",
       "              (conv): Conv2d(192, 192, kernel_size=(3, 3), stride=(1, 1), padding=(1, 1), bias=False)\n",
       "              (bn): BatchNorm2d(192, eps=0.001, momentum=0.03, affine=True, track_running_stats=True)\n",
       "              (act): SiLU(inplace=True)\n",
       "            )\n",
       "            (cv2): Conv(\n",
       "              (conv): Conv2d(192, 192, kernel_size=(3, 3), stride=(1, 1), padding=(1, 1), bias=False)\n",
       "              (bn): BatchNorm2d(192, eps=0.001, momentum=0.03, affine=True, track_running_stats=True)\n",
       "              (act): SiLU(inplace=True)\n",
       "            )\n",
       "          )\n",
       "        )\n",
       "      )\n",
       "      (19): Conv(\n",
       "        (conv): Conv2d(384, 384, kernel_size=(3, 3), stride=(2, 2), padding=(1, 1), bias=False)\n",
       "        (bn): BatchNorm2d(384, eps=0.001, momentum=0.03, affine=True, track_running_stats=True)\n",
       "        (act): SiLU(inplace=True)\n",
       "      )\n",
       "      (20): Concat()\n",
       "      (21): C2f(\n",
       "        (cv1): Conv(\n",
       "          (conv): Conv2d(960, 576, kernel_size=(1, 1), stride=(1, 1), bias=False)\n",
       "          (bn): BatchNorm2d(576, eps=0.001, momentum=0.03, affine=True, track_running_stats=True)\n",
       "          (act): SiLU(inplace=True)\n",
       "        )\n",
       "        (cv2): Conv(\n",
       "          (conv): Conv2d(1152, 576, kernel_size=(1, 1), stride=(1, 1), bias=False)\n",
       "          (bn): BatchNorm2d(576, eps=0.001, momentum=0.03, affine=True, track_running_stats=True)\n",
       "          (act): SiLU(inplace=True)\n",
       "        )\n",
       "        (m): ModuleList(\n",
       "          (0-1): 2 x Bottleneck(\n",
       "            (cv1): Conv(\n",
       "              (conv): Conv2d(288, 288, kernel_size=(3, 3), stride=(1, 1), padding=(1, 1), bias=False)\n",
       "              (bn): BatchNorm2d(288, eps=0.001, momentum=0.03, affine=True, track_running_stats=True)\n",
       "              (act): SiLU(inplace=True)\n",
       "            )\n",
       "            (cv2): Conv(\n",
       "              (conv): Conv2d(288, 288, kernel_size=(3, 3), stride=(1, 1), padding=(1, 1), bias=False)\n",
       "              (bn): BatchNorm2d(288, eps=0.001, momentum=0.03, affine=True, track_running_stats=True)\n",
       "              (act): SiLU(inplace=True)\n",
       "            )\n",
       "          )\n",
       "        )\n",
       "      )\n",
       "      (22): Detect(\n",
       "        (cv2): ModuleList(\n",
       "          (0): Sequential(\n",
       "            (0): Conv(\n",
       "              (conv): Conv2d(192, 64, kernel_size=(3, 3), stride=(1, 1), padding=(1, 1), bias=False)\n",
       "              (bn): BatchNorm2d(64, eps=0.001, momentum=0.03, affine=True, track_running_stats=True)\n",
       "              (act): SiLU(inplace=True)\n",
       "            )\n",
       "            (1): Conv(\n",
       "              (conv): Conv2d(64, 64, kernel_size=(3, 3), stride=(1, 1), padding=(1, 1), bias=False)\n",
       "              (bn): BatchNorm2d(64, eps=0.001, momentum=0.03, affine=True, track_running_stats=True)\n",
       "              (act): SiLU(inplace=True)\n",
       "            )\n",
       "            (2): Conv2d(64, 64, kernel_size=(1, 1), stride=(1, 1))\n",
       "          )\n",
       "          (1): Sequential(\n",
       "            (0): Conv(\n",
       "              (conv): Conv2d(384, 64, kernel_size=(3, 3), stride=(1, 1), padding=(1, 1), bias=False)\n",
       "              (bn): BatchNorm2d(64, eps=0.001, momentum=0.03, affine=True, track_running_stats=True)\n",
       "              (act): SiLU(inplace=True)\n",
       "            )\n",
       "            (1): Conv(\n",
       "              (conv): Conv2d(64, 64, kernel_size=(3, 3), stride=(1, 1), padding=(1, 1), bias=False)\n",
       "              (bn): BatchNorm2d(64, eps=0.001, momentum=0.03, affine=True, track_running_stats=True)\n",
       "              (act): SiLU(inplace=True)\n",
       "            )\n",
       "            (2): Conv2d(64, 64, kernel_size=(1, 1), stride=(1, 1))\n",
       "          )\n",
       "          (2): Sequential(\n",
       "            (0): Conv(\n",
       "              (conv): Conv2d(576, 64, kernel_size=(3, 3), stride=(1, 1), padding=(1, 1), bias=False)\n",
       "              (bn): BatchNorm2d(64, eps=0.001, momentum=0.03, affine=True, track_running_stats=True)\n",
       "              (act): SiLU(inplace=True)\n",
       "            )\n",
       "            (1): Conv(\n",
       "              (conv): Conv2d(64, 64, kernel_size=(3, 3), stride=(1, 1), padding=(1, 1), bias=False)\n",
       "              (bn): BatchNorm2d(64, eps=0.001, momentum=0.03, affine=True, track_running_stats=True)\n",
       "              (act): SiLU(inplace=True)\n",
       "            )\n",
       "            (2): Conv2d(64, 64, kernel_size=(1, 1), stride=(1, 1))\n",
       "          )\n",
       "        )\n",
       "        (cv3): ModuleList(\n",
       "          (0): Sequential(\n",
       "            (0): Conv(\n",
       "              (conv): Conv2d(192, 192, kernel_size=(3, 3), stride=(1, 1), padding=(1, 1), bias=False)\n",
       "              (bn): BatchNorm2d(192, eps=0.001, momentum=0.03, affine=True, track_running_stats=True)\n",
       "              (act): SiLU(inplace=True)\n",
       "            )\n",
       "            (1): Conv(\n",
       "              (conv): Conv2d(192, 192, kernel_size=(3, 3), stride=(1, 1), padding=(1, 1), bias=False)\n",
       "              (bn): BatchNorm2d(192, eps=0.001, momentum=0.03, affine=True, track_running_stats=True)\n",
       "              (act): SiLU(inplace=True)\n",
       "            )\n",
       "            (2): Conv2d(192, 80, kernel_size=(1, 1), stride=(1, 1))\n",
       "          )\n",
       "          (1): Sequential(\n",
       "            (0): Conv(\n",
       "              (conv): Conv2d(384, 192, kernel_size=(3, 3), stride=(1, 1), padding=(1, 1), bias=False)\n",
       "              (bn): BatchNorm2d(192, eps=0.001, momentum=0.03, affine=True, track_running_stats=True)\n",
       "              (act): SiLU(inplace=True)\n",
       "            )\n",
       "            (1): Conv(\n",
       "              (conv): Conv2d(192, 192, kernel_size=(3, 3), stride=(1, 1), padding=(1, 1), bias=False)\n",
       "              (bn): BatchNorm2d(192, eps=0.001, momentum=0.03, affine=True, track_running_stats=True)\n",
       "              (act): SiLU(inplace=True)\n",
       "            )\n",
       "            (2): Conv2d(192, 80, kernel_size=(1, 1), stride=(1, 1))\n",
       "          )\n",
       "          (2): Sequential(\n",
       "            (0): Conv(\n",
       "              (conv): Conv2d(576, 192, kernel_size=(3, 3), stride=(1, 1), padding=(1, 1), bias=False)\n",
       "              (bn): BatchNorm2d(192, eps=0.001, momentum=0.03, affine=True, track_running_stats=True)\n",
       "              (act): SiLU(inplace=True)\n",
       "            )\n",
       "            (1): Conv(\n",
       "              (conv): Conv2d(192, 192, kernel_size=(3, 3), stride=(1, 1), padding=(1, 1), bias=False)\n",
       "              (bn): BatchNorm2d(192, eps=0.001, momentum=0.03, affine=True, track_running_stats=True)\n",
       "              (act): SiLU(inplace=True)\n",
       "            )\n",
       "            (2): Conv2d(192, 80, kernel_size=(1, 1), stride=(1, 1))\n",
       "          )\n",
       "        )\n",
       "        (dfl): DFL(\n",
       "          (conv): Conv2d(16, 1, kernel_size=(1, 1), stride=(1, 1), bias=False)\n",
       "        )\n",
       "      )\n",
       "    )\n",
       "  )\n",
       ")"
      ]
     },
     "execution_count": 6,
     "metadata": {},
     "output_type": "execute_result"
    }
   ],
   "source": [
    "model = YOLO('yolov8m.pt')  # load a pretrained model (recommended for training)\n",
    "model"
   ]
  },
  {
   "cell_type": "code",
   "execution_count": 7,
   "metadata": {},
   "outputs": [
    {
     "name": "stdout",
     "output_type": "stream",
     "text": [
      "New https://pypi.org/project/ultralytics/8.1.42 available 😃 Update with 'pip install -U ultralytics'\n",
      "Ultralytics YOLOv8.1.38 🚀 Python-3.11.6 torch-2.2.1+cu121 CUDA:0 (NVIDIA GeForce RTX 3050, 8192MiB)\n",
      "\u001b[34m\u001b[1mengine/trainer: \u001b[0mtask=detect, mode=train, model=yolov8m.pt, data=./yolov5-coco-datasets/dataset.yaml, epochs=50, time=None, patience=100, batch=10, imgsz=640, save=True, save_period=-1, cache=False, device=0, workers=8, project=None, name=train11, exist_ok=False, pretrained=True, optimizer=auto, verbose=True, seed=0, deterministic=True, single_cls=False, rect=False, cos_lr=False, close_mosaic=10, resume=False, amp=True, fraction=1.0, profile=False, freeze=None, multi_scale=False, overlap_mask=True, mask_ratio=4, dropout=0.0, val=True, split=val, save_json=False, save_hybrid=False, conf=None, iou=0.7, max_det=300, half=False, dnn=False, plots=True, source=None, vid_stride=1, stream_buffer=False, visualize=False, augment=False, agnostic_nms=False, classes=None, retina_masks=False, embed=None, show=False, save_frames=False, save_txt=False, save_conf=False, save_crop=False, show_labels=True, show_conf=True, show_boxes=True, line_width=None, format=torchscript, keras=False, optimize=False, int8=False, dynamic=False, simplify=False, opset=None, workspace=4, nms=False, lr0=0.01, lrf=0.01, momentum=0.937, weight_decay=0.0005, warmup_epochs=3.0, warmup_momentum=0.8, warmup_bias_lr=0.1, box=7.5, cls=0.5, dfl=1.5, pose=12.0, kobj=1.0, label_smoothing=0.0, nbs=64, hsv_h=0.015, hsv_s=0.7, hsv_v=0.4, degrees=0.0, translate=0.1, scale=0.5, shear=0.0, perspective=0.0, flipud=0.0, fliplr=0.5, bgr=0.0, mosaic=1.0, mixup=0.0, copy_paste=0.0, auto_augment=randaugment, erasing=0.4, crop_fraction=1.0, cfg=None, tracker=botsort.yaml, save_dir=/home/insomnius/.pyenv/runs/detect/train11\n",
      "WARNING ⚠️ renaming data YAML 'validation' key to 'val' to match YOLO format.\n",
      "Overriding model.yaml nc=80 with nc=1\n",
      "\n",
      "                   from  n    params  module                                       arguments                     \n",
      "  0                  -1  1      1392  ultralytics.nn.modules.conv.Conv             [3, 48, 3, 2]                 \n",
      "  1                  -1  1     41664  ultralytics.nn.modules.conv.Conv             [48, 96, 3, 2]                \n",
      "  2                  -1  2    111360  ultralytics.nn.modules.block.C2f             [96, 96, 2, True]             \n",
      "  3                  -1  1    166272  ultralytics.nn.modules.conv.Conv             [96, 192, 3, 2]               \n",
      "  4                  -1  4    813312  ultralytics.nn.modules.block.C2f             [192, 192, 4, True]           \n",
      "  5                  -1  1    664320  ultralytics.nn.modules.conv.Conv             [192, 384, 3, 2]              \n",
      "  6                  -1  4   3248640  ultralytics.nn.modules.block.C2f             [384, 384, 4, True]           \n",
      "  7                  -1  1   1991808  ultralytics.nn.modules.conv.Conv             [384, 576, 3, 2]              \n",
      "  8                  -1  2   3985920  ultralytics.nn.modules.block.C2f             [576, 576, 2, True]           \n",
      "  9                  -1  1    831168  ultralytics.nn.modules.block.SPPF            [576, 576, 5]                 \n",
      " 10                  -1  1         0  torch.nn.modules.upsampling.Upsample         [None, 2, 'nearest']          \n",
      " 11             [-1, 6]  1         0  ultralytics.nn.modules.conv.Concat           [1]                           \n",
      " 12                  -1  2   1993728  ultralytics.nn.modules.block.C2f             [960, 384, 2]                 \n",
      " 13                  -1  1         0  torch.nn.modules.upsampling.Upsample         [None, 2, 'nearest']          \n",
      " 14             [-1, 4]  1         0  ultralytics.nn.modules.conv.Concat           [1]                           \n",
      " 15                  -1  2    517632  ultralytics.nn.modules.block.C2f             [576, 192, 2]                 \n",
      " 16                  -1  1    332160  ultralytics.nn.modules.conv.Conv             [192, 192, 3, 2]              \n",
      " 17            [-1, 12]  1         0  ultralytics.nn.modules.conv.Concat           [1]                           \n",
      " 18                  -1  2   1846272  ultralytics.nn.modules.block.C2f             [576, 384, 2]                 \n",
      " 19                  -1  1   1327872  ultralytics.nn.modules.conv.Conv             [384, 384, 3, 2]              \n",
      " 20             [-1, 9]  1         0  ultralytics.nn.modules.conv.Concat           [1]                           \n",
      " 21                  -1  2   4207104  ultralytics.nn.modules.block.C2f             [960, 576, 2]                 \n",
      " 22        [15, 18, 21]  1   3776275  ultralytics.nn.modules.head.Detect           [1, [192, 384, 576]]          \n",
      "Model summary: 295 layers, 25856899 parameters, 25856883 gradients, 79.1 GFLOPs\n",
      "\n",
      "Transferred 469/475 items from pretrained weights\n",
      "\u001b[34m\u001b[1mTensorBoard: \u001b[0mStart with 'tensorboard --logdir /home/insomnius/.pyenv/runs/detect/train11', view at http://localhost:6006/\n",
      "Freezing layer 'model.22.dfl.conv.weight'\n",
      "\u001b[34m\u001b[1mAMP: \u001b[0mrunning Automatic Mixed Precision (AMP) checks with YOLOv8n...\n",
      "\u001b[34m\u001b[1mAMP: \u001b[0mchecks passed ✅\n"
     ]
    },
    {
     "name": "stderr",
     "output_type": "stream",
     "text": [
      "\u001b[34m\u001b[1mtrain: \u001b[0mScanning /home/insomnius/project/person-detection/yolov5-coco-datasets/labels/train.cache... 500 images, 0 backgrounds, 0 corrupt: 100%|██████████| 500/500 [00:00<?, ?it/s]\n"
     ]
    },
    {
     "name": "stdout",
     "output_type": "stream",
     "text": [
      "\u001b[34m\u001b[1malbumentations: \u001b[0mBlur(p=0.01, blur_limit=(3, 7)), MedianBlur(p=0.01, blur_limit=(3, 7)), ToGray(p=0.01), CLAHE(p=0.01, clip_limit=(1, 4.0), tile_grid_size=(8, 8))\n"
     ]
    },
    {
     "name": "stderr",
     "output_type": "stream",
     "text": [
      "/home/insomnius/.pyenv/versions/3.11.6/lib/python3.11/multiprocessing/popen_fork.py:66: RuntimeWarning: os.fork() was called. os.fork() is incompatible with multithreaded code, and JAX is multithreaded, so this will likely lead to a deadlock.\n",
      "  self.pid = os.fork()\n",
      "\u001b[34m\u001b[1mval: \u001b[0mScanning /home/insomnius/project/person-detection/yolov5-coco-datasets/labels/validation.cache... 500 images, 0 backgrounds, 0 corrupt: 100%|██████████| 500/500 [00:00<?, ?it/s]\n"
     ]
    },
    {
     "name": "stdout",
     "output_type": "stream",
     "text": [
      "Plotting labels to /home/insomnius/.pyenv/runs/detect/train11/labels.jpg... \n",
      "\u001b[34m\u001b[1moptimizer:\u001b[0m 'optimizer=auto' found, ignoring 'lr0=0.01' and 'momentum=0.937' and determining best 'optimizer', 'lr0' and 'momentum' automatically... \n",
      "\u001b[34m\u001b[1moptimizer:\u001b[0m AdamW(lr=0.002, momentum=0.9) with parameter groups 77 weight(decay=0.0), 84 weight(decay=0.00046875), 83 bias(decay=0.0)\n",
      "\u001b[34m\u001b[1mTensorBoard: \u001b[0mmodel graph visualization added ✅\n",
      "Image sizes 640 train, 640 val\n",
      "Using 8 dataloader workers\n",
      "Logging results to \u001b[1m/home/insomnius/.pyenv/runs/detect/train11\u001b[0m\n",
      "Starting training for 50 epochs...\n",
      "\n",
      "      Epoch    GPU_mem   box_loss   cls_loss   dfl_loss  Instances       Size\n"
     ]
    },
    {
     "name": "stderr",
     "output_type": "stream",
     "text": [
      "       1/50      6.08G      1.252      1.443      1.303         64        640: 100%|██████████| 50/50 [00:20<00:00,  2.44it/s]\n",
      "                 Class     Images  Instances      Box(P          R      mAP50  mAP50-95): 100%|██████████| 25/25 [00:06<00:00,  3.62it/s]"
     ]
    },
    {
     "name": "stdout",
     "output_type": "stream",
     "text": [
      "                   all        500       2090      0.219      0.223      0.136     0.0618\n"
     ]
    },
    {
     "name": "stderr",
     "output_type": "stream",
     "text": [
      "\n"
     ]
    },
    {
     "name": "stdout",
     "output_type": "stream",
     "text": [
      "\n",
      "      Epoch    GPU_mem   box_loss   cls_loss   dfl_loss  Instances       Size\n"
     ]
    },
    {
     "name": "stderr",
     "output_type": "stream",
     "text": [
      "       2/50       5.5G      1.688      1.789      1.639         80        640: 100%|██████████| 50/50 [00:19<00:00,  2.50it/s]\n",
      "                 Class     Images  Instances      Box(P          R      mAP50  mAP50-95): 100%|██████████| 25/25 [00:06<00:00,  3.62it/s]"
     ]
    },
    {
     "name": "stdout",
     "output_type": "stream",
     "text": [
      "                   all        500       2090    0.00587      0.277    0.00361    0.00139\n"
     ]
    },
    {
     "name": "stderr",
     "output_type": "stream",
     "text": [
      "\n"
     ]
    },
    {
     "name": "stdout",
     "output_type": "stream",
     "text": [
      "\n",
      "      Epoch    GPU_mem   box_loss   cls_loss   dfl_loss  Instances       Size\n"
     ]
    },
    {
     "name": "stderr",
     "output_type": "stream",
     "text": [
      "       3/50      5.48G      1.918       1.98      1.759         91        640: 100%|██████████| 50/50 [00:19<00:00,  2.56it/s]\n",
      "                 Class     Images  Instances      Box(P          R      mAP50  mAP50-95): 100%|██████████| 25/25 [00:07<00:00,  3.37it/s]"
     ]
    },
    {
     "name": "stdout",
     "output_type": "stream",
     "text": [
      "                   all        500       2090    0.00327      0.227    0.00199   0.000794\n"
     ]
    },
    {
     "name": "stderr",
     "output_type": "stream",
     "text": [
      "\n"
     ]
    },
    {
     "name": "stdout",
     "output_type": "stream",
     "text": [
      "\n",
      "      Epoch    GPU_mem   box_loss   cls_loss   dfl_loss  Instances       Size\n"
     ]
    },
    {
     "name": "stderr",
     "output_type": "stream",
     "text": [
      "       4/50      5.46G      1.884      1.951      1.768         71        640: 100%|██████████| 50/50 [00:19<00:00,  2.57it/s]\n",
      "                 Class     Images  Instances      Box(P          R      mAP50  mAP50-95): 100%|██████████| 25/25 [00:06<00:00,  3.63it/s]"
     ]
    },
    {
     "name": "stdout",
     "output_type": "stream",
     "text": [
      "                   all        500       2090        0.2      0.275      0.138     0.0557\n"
     ]
    },
    {
     "name": "stderr",
     "output_type": "stream",
     "text": [
      "\n"
     ]
    },
    {
     "name": "stdout",
     "output_type": "stream",
     "text": [
      "\n",
      "      Epoch    GPU_mem   box_loss   cls_loss   dfl_loss  Instances       Size\n"
     ]
    },
    {
     "name": "stderr",
     "output_type": "stream",
     "text": [
      "       5/50      5.47G       1.86      1.905      1.748         60        640: 100%|██████████| 50/50 [00:19<00:00,  2.54it/s]\n",
      "                 Class     Images  Instances      Box(P          R      mAP50  mAP50-95): 100%|██████████| 25/25 [00:06<00:00,  3.59it/s]"
     ]
    },
    {
     "name": "stdout",
     "output_type": "stream",
     "text": [
      "                   all        500       2090      0.377      0.312      0.277      0.118\n"
     ]
    },
    {
     "name": "stderr",
     "output_type": "stream",
     "text": [
      "\n"
     ]
    },
    {
     "name": "stdout",
     "output_type": "stream",
     "text": [
      "\n",
      "      Epoch    GPU_mem   box_loss   cls_loss   dfl_loss  Instances       Size\n"
     ]
    },
    {
     "name": "stderr",
     "output_type": "stream",
     "text": [
      "       6/50      5.48G       1.83      1.881      1.765         71        640: 100%|██████████| 50/50 [00:20<00:00,  2.38it/s]\n",
      "                 Class     Images  Instances      Box(P          R      mAP50  mAP50-95): 100%|██████████| 25/25 [00:07<00:00,  3.51it/s]"
     ]
    },
    {
     "name": "stdout",
     "output_type": "stream",
     "text": [
      "                   all        500       2090      0.338      0.337      0.261      0.113\n"
     ]
    },
    {
     "name": "stderr",
     "output_type": "stream",
     "text": [
      "\n"
     ]
    },
    {
     "name": "stdout",
     "output_type": "stream",
     "text": [
      "\n",
      "      Epoch    GPU_mem   box_loss   cls_loss   dfl_loss  Instances       Size\n"
     ]
    },
    {
     "name": "stderr",
     "output_type": "stream",
     "text": [
      "       7/50      5.48G      1.766      1.829       1.69         62        640: 100%|██████████| 50/50 [00:20<00:00,  2.45it/s]\n",
      "                 Class     Images  Instances      Box(P          R      mAP50  mAP50-95): 100%|██████████| 25/25 [00:07<00:00,  3.55it/s]"
     ]
    },
    {
     "name": "stdout",
     "output_type": "stream",
     "text": [
      "                   all        500       2090      0.359      0.321      0.277      0.127\n"
     ]
    },
    {
     "name": "stderr",
     "output_type": "stream",
     "text": [
      "\n"
     ]
    },
    {
     "name": "stdout",
     "output_type": "stream",
     "text": [
      "\n",
      "      Epoch    GPU_mem   box_loss   cls_loss   dfl_loss  Instances       Size\n"
     ]
    },
    {
     "name": "stderr",
     "output_type": "stream",
     "text": [
      "       8/50      5.47G      1.707       1.81      1.668        110        640: 100%|██████████| 50/50 [00:20<00:00,  2.42it/s]\n",
      "                 Class     Images  Instances      Box(P          R      mAP50  mAP50-95): 100%|██████████| 25/25 [00:07<00:00,  3.51it/s]"
     ]
    },
    {
     "name": "stdout",
     "output_type": "stream",
     "text": [
      "                   all        500       2090      0.413      0.379       0.34      0.148\n"
     ]
    },
    {
     "name": "stderr",
     "output_type": "stream",
     "text": [
      "\n"
     ]
    },
    {
     "name": "stdout",
     "output_type": "stream",
     "text": [
      "\n",
      "      Epoch    GPU_mem   box_loss   cls_loss   dfl_loss  Instances       Size\n"
     ]
    },
    {
     "name": "stderr",
     "output_type": "stream",
     "text": [
      "       9/50      5.45G       1.72      1.787      1.682         76        640: 100%|██████████| 50/50 [00:20<00:00,  2.45it/s]\n",
      "                 Class     Images  Instances      Box(P          R      mAP50  mAP50-95): 100%|██████████| 25/25 [00:07<00:00,  3.47it/s]"
     ]
    },
    {
     "name": "stdout",
     "output_type": "stream",
     "text": [
      "                   all        500       2090      0.434      0.397      0.364      0.177\n"
     ]
    },
    {
     "name": "stderr",
     "output_type": "stream",
     "text": [
      "\n"
     ]
    },
    {
     "name": "stdout",
     "output_type": "stream",
     "text": [
      "\n",
      "      Epoch    GPU_mem   box_loss   cls_loss   dfl_loss  Instances       Size\n"
     ]
    },
    {
     "name": "stderr",
     "output_type": "stream",
     "text": [
      "      10/50      5.38G      1.664      1.693      1.618        119        640: 100%|██████████| 50/50 [00:20<00:00,  2.46it/s]\n",
      "                 Class     Images  Instances      Box(P          R      mAP50  mAP50-95): 100%|██████████| 25/25 [00:07<00:00,  3.41it/s]"
     ]
    },
    {
     "name": "stdout",
     "output_type": "stream",
     "text": [
      "                   all        500       2090      0.495      0.437      0.418        0.2\n"
     ]
    },
    {
     "name": "stderr",
     "output_type": "stream",
     "text": [
      "\n"
     ]
    },
    {
     "name": "stdout",
     "output_type": "stream",
     "text": [
      "\n",
      "      Epoch    GPU_mem   box_loss   cls_loss   dfl_loss  Instances       Size\n"
     ]
    },
    {
     "name": "stderr",
     "output_type": "stream",
     "text": [
      "      11/50      5.47G      1.607      1.645      1.576         60        640: 100%|██████████| 50/50 [00:20<00:00,  2.45it/s]\n",
      "                 Class     Images  Instances      Box(P          R      mAP50  mAP50-95): 100%|██████████| 25/25 [00:07<00:00,  3.53it/s]"
     ]
    },
    {
     "name": "stdout",
     "output_type": "stream",
     "text": [
      "                   all        500       2090      0.527      0.413      0.428       0.21\n"
     ]
    },
    {
     "name": "stderr",
     "output_type": "stream",
     "text": [
      "\n"
     ]
    },
    {
     "name": "stdout",
     "output_type": "stream",
     "text": [
      "\n",
      "      Epoch    GPU_mem   box_loss   cls_loss   dfl_loss  Instances       Size\n"
     ]
    },
    {
     "name": "stderr",
     "output_type": "stream",
     "text": [
      "      12/50      5.46G      1.592      1.626      1.598         47        640: 100%|██████████| 50/50 [00:20<00:00,  2.46it/s]\n",
      "                 Class     Images  Instances      Box(P          R      mAP50  mAP50-95): 100%|██████████| 25/25 [00:07<00:00,  3.55it/s]"
     ]
    },
    {
     "name": "stdout",
     "output_type": "stream",
     "text": [
      "                   all        500       2090      0.463      0.393      0.365      0.167\n"
     ]
    },
    {
     "name": "stderr",
     "output_type": "stream",
     "text": [
      "\n"
     ]
    },
    {
     "name": "stdout",
     "output_type": "stream",
     "text": [
      "\n",
      "      Epoch    GPU_mem   box_loss   cls_loss   dfl_loss  Instances       Size\n"
     ]
    },
    {
     "name": "stderr",
     "output_type": "stream",
     "text": [
      "      13/50      5.46G      1.583      1.645      1.583         62        640: 100%|██████████| 50/50 [00:20<00:00,  2.43it/s]\n",
      "                 Class     Images  Instances      Box(P          R      mAP50  mAP50-95): 100%|██████████| 25/25 [00:07<00:00,  3.46it/s]"
     ]
    },
    {
     "name": "stdout",
     "output_type": "stream",
     "text": [
      "                   all        500       2090      0.543      0.421      0.437      0.219\n"
     ]
    },
    {
     "name": "stderr",
     "output_type": "stream",
     "text": [
      "\n"
     ]
    },
    {
     "name": "stdout",
     "output_type": "stream",
     "text": [
      "\n",
      "      Epoch    GPU_mem   box_loss   cls_loss   dfl_loss  Instances       Size\n"
     ]
    },
    {
     "name": "stderr",
     "output_type": "stream",
     "text": [
      "      14/50      5.47G      1.568      1.588       1.55        104        640: 100%|██████████| 50/50 [00:20<00:00,  2.43it/s]\n",
      "                 Class     Images  Instances      Box(P          R      mAP50  mAP50-95): 100%|██████████| 25/25 [00:07<00:00,  3.54it/s]"
     ]
    },
    {
     "name": "stdout",
     "output_type": "stream",
     "text": [
      "                   all        500       2090      0.536      0.452      0.458       0.23\n"
     ]
    },
    {
     "name": "stderr",
     "output_type": "stream",
     "text": [
      "\n"
     ]
    },
    {
     "name": "stdout",
     "output_type": "stream",
     "text": [
      "\n",
      "      Epoch    GPU_mem   box_loss   cls_loss   dfl_loss  Instances       Size\n"
     ]
    },
    {
     "name": "stderr",
     "output_type": "stream",
     "text": [
      "      15/50      5.46G      1.517      1.473      1.523         54        640: 100%|██████████| 50/50 [00:20<00:00,  2.46it/s]\n",
      "                 Class     Images  Instances      Box(P          R      mAP50  mAP50-95): 100%|██████████| 25/25 [00:07<00:00,  3.50it/s]"
     ]
    },
    {
     "name": "stdout",
     "output_type": "stream",
     "text": [
      "                   all        500       2090      0.595      0.447      0.477      0.252\n"
     ]
    },
    {
     "name": "stderr",
     "output_type": "stream",
     "text": [
      "\n"
     ]
    },
    {
     "name": "stdout",
     "output_type": "stream",
     "text": [
      "\n",
      "      Epoch    GPU_mem   box_loss   cls_loss   dfl_loss  Instances       Size\n"
     ]
    },
    {
     "name": "stderr",
     "output_type": "stream",
     "text": [
      "      16/50      5.43G      1.487      1.532      1.524         50        640: 100%|██████████| 50/50 [00:20<00:00,  2.46it/s]\n",
      "                 Class     Images  Instances      Box(P          R      mAP50  mAP50-95): 100%|██████████| 25/25 [00:06<00:00,  3.58it/s]"
     ]
    },
    {
     "name": "stdout",
     "output_type": "stream",
     "text": [
      "                   all        500       2090      0.547      0.431      0.457      0.231\n"
     ]
    },
    {
     "name": "stderr",
     "output_type": "stream",
     "text": [
      "\n"
     ]
    },
    {
     "name": "stdout",
     "output_type": "stream",
     "text": [
      "\n",
      "      Epoch    GPU_mem   box_loss   cls_loss   dfl_loss  Instances       Size\n"
     ]
    },
    {
     "name": "stderr",
     "output_type": "stream",
     "text": [
      "      17/50      5.47G      1.494      1.482      1.507         78        640: 100%|██████████| 50/50 [00:20<00:00,  2.48it/s]\n",
      "                 Class     Images  Instances      Box(P          R      mAP50  mAP50-95): 100%|██████████| 25/25 [00:06<00:00,  3.58it/s]"
     ]
    },
    {
     "name": "stdout",
     "output_type": "stream",
     "text": [
      "                   all        500       2090      0.584      0.429      0.469      0.244\n"
     ]
    },
    {
     "name": "stderr",
     "output_type": "stream",
     "text": [
      "\n"
     ]
    },
    {
     "name": "stdout",
     "output_type": "stream",
     "text": [
      "\n",
      "      Epoch    GPU_mem   box_loss   cls_loss   dfl_loss  Instances       Size\n"
     ]
    },
    {
     "name": "stderr",
     "output_type": "stream",
     "text": [
      "      18/50      5.44G       1.47      1.464      1.508         45        640: 100%|██████████| 50/50 [00:20<00:00,  2.47it/s]\n",
      "                 Class     Images  Instances      Box(P          R      mAP50  mAP50-95): 100%|██████████| 25/25 [00:07<00:00,  3.54it/s]"
     ]
    },
    {
     "name": "stdout",
     "output_type": "stream",
     "text": [
      "                   all        500       2090      0.552      0.494       0.49      0.249\n"
     ]
    },
    {
     "name": "stderr",
     "output_type": "stream",
     "text": [
      "\n"
     ]
    },
    {
     "name": "stdout",
     "output_type": "stream",
     "text": [
      "\n",
      "      Epoch    GPU_mem   box_loss   cls_loss   dfl_loss  Instances       Size\n"
     ]
    },
    {
     "name": "stderr",
     "output_type": "stream",
     "text": [
      "      19/50      5.47G      1.456      1.413      1.468        101        640: 100%|██████████| 50/50 [00:20<00:00,  2.47it/s]\n",
      "                 Class     Images  Instances      Box(P          R      mAP50  mAP50-95): 100%|██████████| 25/25 [00:07<00:00,  3.53it/s]"
     ]
    },
    {
     "name": "stdout",
     "output_type": "stream",
     "text": [
      "                   all        500       2090      0.557      0.459      0.486      0.252\n"
     ]
    },
    {
     "name": "stderr",
     "output_type": "stream",
     "text": [
      "\n"
     ]
    },
    {
     "name": "stdout",
     "output_type": "stream",
     "text": [
      "\n",
      "      Epoch    GPU_mem   box_loss   cls_loss   dfl_loss  Instances       Size\n"
     ]
    },
    {
     "name": "stderr",
     "output_type": "stream",
     "text": [
      "      20/50      5.45G      1.438      1.385      1.473         46        640: 100%|██████████| 50/50 [00:20<00:00,  2.47it/s]\n",
      "                 Class     Images  Instances      Box(P          R      mAP50  mAP50-95): 100%|██████████| 25/25 [00:07<00:00,  3.57it/s]"
     ]
    },
    {
     "name": "stdout",
     "output_type": "stream",
     "text": [
      "                   all        500       2090      0.568      0.429      0.472      0.251\n"
     ]
    },
    {
     "name": "stderr",
     "output_type": "stream",
     "text": [
      "\n"
     ]
    },
    {
     "name": "stdout",
     "output_type": "stream",
     "text": [
      "\n",
      "      Epoch    GPU_mem   box_loss   cls_loss   dfl_loss  Instances       Size\n"
     ]
    },
    {
     "name": "stderr",
     "output_type": "stream",
     "text": [
      "      21/50      5.47G      1.384      1.379      1.455         83        640: 100%|██████████| 50/50 [00:20<00:00,  2.46it/s]\n",
      "                 Class     Images  Instances      Box(P          R      mAP50  mAP50-95): 100%|██████████| 25/25 [00:07<00:00,  3.50it/s]"
     ]
    },
    {
     "name": "stdout",
     "output_type": "stream",
     "text": [
      "                   all        500       2090      0.567      0.481      0.491      0.265\n"
     ]
    },
    {
     "name": "stderr",
     "output_type": "stream",
     "text": [
      "\n"
     ]
    },
    {
     "name": "stdout",
     "output_type": "stream",
     "text": [
      "\n",
      "      Epoch    GPU_mem   box_loss   cls_loss   dfl_loss  Instances       Size\n"
     ]
    },
    {
     "name": "stderr",
     "output_type": "stream",
     "text": [
      "      22/50      5.39G      1.358      1.298      1.426         70        640: 100%|██████████| 50/50 [00:20<00:00,  2.44it/s]\n",
      "                 Class     Images  Instances      Box(P          R      mAP50  mAP50-95): 100%|██████████| 25/25 [00:07<00:00,  3.52it/s]"
     ]
    },
    {
     "name": "stdout",
     "output_type": "stream",
     "text": [
      "                   all        500       2090        0.6      0.491      0.525      0.285\n"
     ]
    },
    {
     "name": "stderr",
     "output_type": "stream",
     "text": [
      "\n"
     ]
    },
    {
     "name": "stdout",
     "output_type": "stream",
     "text": [
      "\n",
      "      Epoch    GPU_mem   box_loss   cls_loss   dfl_loss  Instances       Size\n"
     ]
    },
    {
     "name": "stderr",
     "output_type": "stream",
     "text": [
      "      23/50      5.46G       1.34      1.272      1.401         68        640: 100%|██████████| 50/50 [00:20<00:00,  2.45it/s]\n",
      "                 Class     Images  Instances      Box(P          R      mAP50  mAP50-95): 100%|██████████| 25/25 [00:06<00:00,  3.61it/s]"
     ]
    },
    {
     "name": "stdout",
     "output_type": "stream",
     "text": [
      "                   all        500       2090      0.595      0.506      0.534      0.295\n"
     ]
    },
    {
     "name": "stderr",
     "output_type": "stream",
     "text": [
      "\n"
     ]
    },
    {
     "name": "stdout",
     "output_type": "stream",
     "text": [
      "\n",
      "      Epoch    GPU_mem   box_loss   cls_loss   dfl_loss  Instances       Size\n"
     ]
    },
    {
     "name": "stderr",
     "output_type": "stream",
     "text": [
      "      24/50      5.47G      1.318      1.271      1.384         59        640: 100%|██████████| 50/50 [00:20<00:00,  2.49it/s]\n",
      "                 Class     Images  Instances      Box(P          R      mAP50  mAP50-95): 100%|██████████| 25/25 [00:06<00:00,  3.64it/s]"
     ]
    },
    {
     "name": "stdout",
     "output_type": "stream",
     "text": [
      "                   all        500       2090      0.588      0.505      0.515      0.274\n"
     ]
    },
    {
     "name": "stderr",
     "output_type": "stream",
     "text": [
      "\n"
     ]
    },
    {
     "name": "stdout",
     "output_type": "stream",
     "text": [
      "\n",
      "      Epoch    GPU_mem   box_loss   cls_loss   dfl_loss  Instances       Size\n"
     ]
    },
    {
     "name": "stderr",
     "output_type": "stream",
     "text": [
      "      25/50      5.46G      1.306      1.255      1.381         94        640: 100%|██████████| 50/50 [00:20<00:00,  2.45it/s]\n",
      "                 Class     Images  Instances      Box(P          R      mAP50  mAP50-95): 100%|██████████| 25/25 [00:06<00:00,  3.60it/s]"
     ]
    },
    {
     "name": "stdout",
     "output_type": "stream",
     "text": [
      "                   all        500       2090        0.6      0.526       0.54      0.297\n"
     ]
    },
    {
     "name": "stderr",
     "output_type": "stream",
     "text": [
      "\n"
     ]
    },
    {
     "name": "stdout",
     "output_type": "stream",
     "text": [
      "\n",
      "      Epoch    GPU_mem   box_loss   cls_loss   dfl_loss  Instances       Size\n"
     ]
    },
    {
     "name": "stderr",
     "output_type": "stream",
     "text": [
      "      26/50      5.47G      1.331       1.26      1.404         95        640: 100%|██████████| 50/50 [00:20<00:00,  2.47it/s]\n",
      "                 Class     Images  Instances      Box(P          R      mAP50  mAP50-95): 100%|██████████| 25/25 [00:06<00:00,  3.60it/s]"
     ]
    },
    {
     "name": "stdout",
     "output_type": "stream",
     "text": [
      "                   all        500       2090      0.626      0.502      0.538      0.297\n"
     ]
    },
    {
     "name": "stderr",
     "output_type": "stream",
     "text": [
      "\n"
     ]
    },
    {
     "name": "stdout",
     "output_type": "stream",
     "text": [
      "\n",
      "      Epoch    GPU_mem   box_loss   cls_loss   dfl_loss  Instances       Size\n"
     ]
    },
    {
     "name": "stderr",
     "output_type": "stream",
     "text": [
      "      27/50      5.36G      1.268      1.233      1.362         79        640: 100%|██████████| 50/50 [00:20<00:00,  2.47it/s]\n",
      "                 Class     Images  Instances      Box(P          R      mAP50  mAP50-95): 100%|██████████| 25/25 [00:07<00:00,  3.53it/s]"
     ]
    },
    {
     "name": "stdout",
     "output_type": "stream",
     "text": [
      "                   all        500       2090      0.616      0.503      0.526       0.29\n"
     ]
    },
    {
     "name": "stderr",
     "output_type": "stream",
     "text": [
      "\n"
     ]
    },
    {
     "name": "stdout",
     "output_type": "stream",
     "text": [
      "\n",
      "      Epoch    GPU_mem   box_loss   cls_loss   dfl_loss  Instances       Size\n"
     ]
    },
    {
     "name": "stderr",
     "output_type": "stream",
     "text": [
      "      28/50      5.35G      1.281      1.222      1.363         63        640: 100%|██████████| 50/50 [00:20<00:00,  2.43it/s]\n",
      "                 Class     Images  Instances      Box(P          R      mAP50  mAP50-95): 100%|██████████| 25/25 [00:07<00:00,  3.51it/s]"
     ]
    },
    {
     "name": "stdout",
     "output_type": "stream",
     "text": [
      "                   all        500       2090       0.61        0.5      0.542      0.304\n"
     ]
    },
    {
     "name": "stderr",
     "output_type": "stream",
     "text": [
      "\n"
     ]
    },
    {
     "name": "stdout",
     "output_type": "stream",
     "text": [
      "\n",
      "      Epoch    GPU_mem   box_loss   cls_loss   dfl_loss  Instances       Size\n"
     ]
    },
    {
     "name": "stderr",
     "output_type": "stream",
     "text": [
      "      29/50      5.47G      1.235      1.193      1.339         65        640: 100%|██████████| 50/50 [00:20<00:00,  2.40it/s]\n",
      "                 Class     Images  Instances      Box(P          R      mAP50  mAP50-95): 100%|██████████| 25/25 [00:07<00:00,  3.55it/s]"
     ]
    },
    {
     "name": "stdout",
     "output_type": "stream",
     "text": [
      "                   all        500       2090      0.612      0.519      0.541        0.3\n"
     ]
    },
    {
     "name": "stderr",
     "output_type": "stream",
     "text": [
      "\n"
     ]
    },
    {
     "name": "stdout",
     "output_type": "stream",
     "text": [
      "\n",
      "      Epoch    GPU_mem   box_loss   cls_loss   dfl_loss  Instances       Size\n"
     ]
    },
    {
     "name": "stderr",
     "output_type": "stream",
     "text": [
      "      30/50      5.35G      1.216      1.117      1.316         82        640: 100%|██████████| 50/50 [00:20<00:00,  2.43it/s]\n",
      "                 Class     Images  Instances      Box(P          R      mAP50  mAP50-95): 100%|██████████| 25/25 [00:07<00:00,  3.50it/s]"
     ]
    },
    {
     "name": "stdout",
     "output_type": "stream",
     "text": [
      "                   all        500       2090      0.623      0.517      0.552      0.305\n"
     ]
    },
    {
     "name": "stderr",
     "output_type": "stream",
     "text": [
      "\n"
     ]
    },
    {
     "name": "stdout",
     "output_type": "stream",
     "text": [
      "\n",
      "      Epoch    GPU_mem   box_loss   cls_loss   dfl_loss  Instances       Size\n"
     ]
    },
    {
     "name": "stderr",
     "output_type": "stream",
     "text": [
      "      31/50      5.45G      1.239       1.14      1.343         76        640: 100%|██████████| 50/50 [00:20<00:00,  2.43it/s]\n",
      "                 Class     Images  Instances      Box(P          R      mAP50  mAP50-95): 100%|██████████| 25/25 [00:07<00:00,  3.53it/s]"
     ]
    },
    {
     "name": "stdout",
     "output_type": "stream",
     "text": [
      "                   all        500       2090      0.631      0.518      0.548      0.304\n"
     ]
    },
    {
     "name": "stderr",
     "output_type": "stream",
     "text": [
      "\n"
     ]
    },
    {
     "name": "stdout",
     "output_type": "stream",
     "text": [
      "\n",
      "      Epoch    GPU_mem   box_loss   cls_loss   dfl_loss  Instances       Size\n"
     ]
    },
    {
     "name": "stderr",
     "output_type": "stream",
     "text": [
      "      32/50      5.45G      1.214      1.134      1.323         71        640: 100%|██████████| 50/50 [00:21<00:00,  2.37it/s]\n",
      "                 Class     Images  Instances      Box(P          R      mAP50  mAP50-95): 100%|██████████| 25/25 [00:07<00:00,  3.45it/s]"
     ]
    },
    {
     "name": "stdout",
     "output_type": "stream",
     "text": [
      "                   all        500       2090      0.593      0.549      0.559      0.312\n"
     ]
    },
    {
     "name": "stderr",
     "output_type": "stream",
     "text": [
      "\n"
     ]
    },
    {
     "name": "stdout",
     "output_type": "stream",
     "text": [
      "\n",
      "      Epoch    GPU_mem   box_loss   cls_loss   dfl_loss  Instances       Size\n"
     ]
    },
    {
     "name": "stderr",
     "output_type": "stream",
     "text": [
      "      33/50      5.44G      1.204      1.103      1.308         62        640: 100%|██████████| 50/50 [00:20<00:00,  2.45it/s]\n",
      "                 Class     Images  Instances      Box(P          R      mAP50  mAP50-95): 100%|██████████| 25/25 [00:07<00:00,  3.50it/s]"
     ]
    },
    {
     "name": "stdout",
     "output_type": "stream",
     "text": [
      "                   all        500       2090      0.626        0.5      0.543      0.302\n"
     ]
    },
    {
     "name": "stderr",
     "output_type": "stream",
     "text": [
      "\n"
     ]
    },
    {
     "name": "stdout",
     "output_type": "stream",
     "text": [
      "\n",
      "      Epoch    GPU_mem   box_loss   cls_loss   dfl_loss  Instances       Size\n"
     ]
    },
    {
     "name": "stderr",
     "output_type": "stream",
     "text": [
      "      34/50      5.39G      1.169      1.064        1.3         44        640: 100%|██████████| 50/50 [00:20<00:00,  2.44it/s]\n",
      "                 Class     Images  Instances      Box(P          R      mAP50  mAP50-95): 100%|██████████| 25/25 [00:06<00:00,  3.59it/s]"
     ]
    },
    {
     "name": "stdout",
     "output_type": "stream",
     "text": [
      "                   all        500       2090      0.632      0.518      0.563      0.314\n"
     ]
    },
    {
     "name": "stderr",
     "output_type": "stream",
     "text": [
      "\n"
     ]
    },
    {
     "name": "stdout",
     "output_type": "stream",
     "text": [
      "\n",
      "      Epoch    GPU_mem   box_loss   cls_loss   dfl_loss  Instances       Size\n"
     ]
    },
    {
     "name": "stderr",
     "output_type": "stream",
     "text": [
      "      35/50      5.45G       1.16       1.04      1.301         90        640: 100%|██████████| 50/50 [00:20<00:00,  2.47it/s]\n",
      "                 Class     Images  Instances      Box(P          R      mAP50  mAP50-95): 100%|██████████| 25/25 [00:06<00:00,  3.59it/s]"
     ]
    },
    {
     "name": "stdout",
     "output_type": "stream",
     "text": [
      "                   all        500       2090      0.673      0.509       0.57      0.318\n"
     ]
    },
    {
     "name": "stderr",
     "output_type": "stream",
     "text": [
      "\n"
     ]
    },
    {
     "name": "stdout",
     "output_type": "stream",
     "text": [
      "\n",
      "      Epoch    GPU_mem   box_loss   cls_loss   dfl_loss  Instances       Size\n"
     ]
    },
    {
     "name": "stderr",
     "output_type": "stream",
     "text": [
      "      36/50      5.35G      1.187      1.041       1.29         81        640: 100%|██████████| 50/50 [00:20<00:00,  2.46it/s]\n",
      "                 Class     Images  Instances      Box(P          R      mAP50  mAP50-95): 100%|██████████| 25/25 [00:06<00:00,  3.58it/s]"
     ]
    },
    {
     "name": "stdout",
     "output_type": "stream",
     "text": [
      "                   all        500       2090      0.635       0.53      0.569      0.323\n"
     ]
    },
    {
     "name": "stderr",
     "output_type": "stream",
     "text": [
      "\n"
     ]
    },
    {
     "name": "stdout",
     "output_type": "stream",
     "text": [
      "\n",
      "      Epoch    GPU_mem   box_loss   cls_loss   dfl_loss  Instances       Size\n"
     ]
    },
    {
     "name": "stderr",
     "output_type": "stream",
     "text": [
      "      37/50      5.47G      1.137      1.011       1.28         38        640: 100%|██████████| 50/50 [00:20<00:00,  2.45it/s]\n",
      "                 Class     Images  Instances      Box(P          R      mAP50  mAP50-95): 100%|██████████| 25/25 [00:06<00:00,  3.62it/s]"
     ]
    },
    {
     "name": "stdout",
     "output_type": "stream",
     "text": [
      "                   all        500       2090      0.645      0.528      0.572      0.328\n"
     ]
    },
    {
     "name": "stderr",
     "output_type": "stream",
     "text": [
      "\n"
     ]
    },
    {
     "name": "stdout",
     "output_type": "stream",
     "text": [
      "\n",
      "      Epoch    GPU_mem   box_loss   cls_loss   dfl_loss  Instances       Size\n"
     ]
    },
    {
     "name": "stderr",
     "output_type": "stream",
     "text": [
      "      38/50      5.46G      1.135     0.9811      1.266         98        640: 100%|██████████| 50/50 [00:20<00:00,  2.44it/s]\n",
      "                 Class     Images  Instances      Box(P          R      mAP50  mAP50-95): 100%|██████████| 25/25 [00:06<00:00,  3.58it/s]"
     ]
    },
    {
     "name": "stdout",
     "output_type": "stream",
     "text": [
      "                   all        500       2090      0.645      0.525      0.571      0.322\n"
     ]
    },
    {
     "name": "stderr",
     "output_type": "stream",
     "text": [
      "\n"
     ]
    },
    {
     "name": "stdout",
     "output_type": "stream",
     "text": [
      "\n",
      "      Epoch    GPU_mem   box_loss   cls_loss   dfl_loss  Instances       Size\n"
     ]
    },
    {
     "name": "stderr",
     "output_type": "stream",
     "text": [
      "      39/50      5.44G      1.106     0.9625      1.242         81        640: 100%|██████████| 50/50 [00:20<00:00,  2.44it/s]\n",
      "                 Class     Images  Instances      Box(P          R      mAP50  mAP50-95): 100%|██████████| 25/25 [00:06<00:00,  3.57it/s]"
     ]
    },
    {
     "name": "stdout",
     "output_type": "stream",
     "text": [
      "                   all        500       2090      0.652      0.532      0.587      0.332\n"
     ]
    },
    {
     "name": "stderr",
     "output_type": "stream",
     "text": [
      "\n"
     ]
    },
    {
     "name": "stdout",
     "output_type": "stream",
     "text": [
      "\n",
      "      Epoch    GPU_mem   box_loss   cls_loss   dfl_loss  Instances       Size\n"
     ]
    },
    {
     "name": "stderr",
     "output_type": "stream",
     "text": [
      "      40/50      5.46G      1.092     0.9371      1.234         61        640: 100%|██████████| 50/50 [00:20<00:00,  2.41it/s]\n",
      "                 Class     Images  Instances      Box(P          R      mAP50  mAP50-95): 100%|██████████| 25/25 [00:06<00:00,  3.65it/s]"
     ]
    },
    {
     "name": "stdout",
     "output_type": "stream",
     "text": [
      "                   all        500       2090       0.68      0.531      0.583      0.334\n"
     ]
    },
    {
     "name": "stderr",
     "output_type": "stream",
     "text": [
      "\n"
     ]
    },
    {
     "name": "stdout",
     "output_type": "stream",
     "text": [
      "Closing dataloader mosaic\n",
      "\u001b[34m\u001b[1malbumentations: \u001b[0mBlur(p=0.01, blur_limit=(3, 7)), MedianBlur(p=0.01, blur_limit=(3, 7)), ToGray(p=0.01), CLAHE(p=0.01, clip_limit=(1, 4.0), tile_grid_size=(8, 8))\n"
     ]
    },
    {
     "name": "stderr",
     "output_type": "stream",
     "text": [
      "/home/insomnius/.pyenv/versions/3.11.6/lib/python3.11/multiprocessing/popen_fork.py:66: RuntimeWarning: os.fork() was called. os.fork() is incompatible with multithreaded code, and JAX is multithreaded, so this will likely lead to a deadlock.\n",
      "  self.pid = os.fork()\n",
      "/home/insomnius/.pyenv/versions/3.11.6/lib/python3.11/multiprocessing/popen_fork.py:66: RuntimeWarning: os.fork() was called. os.fork() is incompatible with multithreaded code, and JAX is multithreaded, so this will likely lead to a deadlock.\n",
      "  self.pid = os.fork()\n"
     ]
    },
    {
     "name": "stdout",
     "output_type": "stream",
     "text": [
      "\n",
      "      Epoch    GPU_mem   box_loss   cls_loss   dfl_loss  Instances       Size\n"
     ]
    },
    {
     "name": "stderr",
     "output_type": "stream",
     "text": [
      "      41/50      5.47G      1.089     0.9768      1.246         28        640: 100%|██████████| 50/50 [00:20<00:00,  2.39it/s]\n",
      "                 Class     Images  Instances      Box(P          R      mAP50  mAP50-95): 100%|██████████| 25/25 [00:07<00:00,  3.38it/s]"
     ]
    },
    {
     "name": "stdout",
     "output_type": "stream",
     "text": [
      "                   all        500       2090      0.637      0.542      0.583      0.335\n"
     ]
    },
    {
     "name": "stderr",
     "output_type": "stream",
     "text": [
      "\n"
     ]
    },
    {
     "name": "stdout",
     "output_type": "stream",
     "text": [
      "\n",
      "      Epoch    GPU_mem   box_loss   cls_loss   dfl_loss  Instances       Size\n"
     ]
    },
    {
     "name": "stderr",
     "output_type": "stream",
     "text": [
      "      42/50      5.38G      1.033      0.856       1.19         40        640: 100%|██████████| 50/50 [00:20<00:00,  2.43it/s]\n",
      "                 Class     Images  Instances      Box(P          R      mAP50  mAP50-95): 100%|██████████| 25/25 [00:07<00:00,  3.52it/s]"
     ]
    },
    {
     "name": "stdout",
     "output_type": "stream",
     "text": [
      "                   all        500       2090      0.644      0.547      0.587      0.337\n"
     ]
    },
    {
     "name": "stderr",
     "output_type": "stream",
     "text": [
      "\n"
     ]
    },
    {
     "name": "stdout",
     "output_type": "stream",
     "text": [
      "\n",
      "      Epoch    GPU_mem   box_loss   cls_loss   dfl_loss  Instances       Size\n"
     ]
    },
    {
     "name": "stderr",
     "output_type": "stream",
     "text": [
      "      43/50      5.47G      1.015     0.8475       1.18         55        640: 100%|██████████| 50/50 [00:20<00:00,  2.41it/s]\n",
      "                 Class     Images  Instances      Box(P          R      mAP50  mAP50-95): 100%|██████████| 25/25 [00:07<00:00,  3.54it/s]"
     ]
    },
    {
     "name": "stdout",
     "output_type": "stream",
     "text": [
      "                   all        500       2090      0.661      0.555      0.583      0.333\n"
     ]
    },
    {
     "name": "stderr",
     "output_type": "stream",
     "text": [
      "\n"
     ]
    },
    {
     "name": "stdout",
     "output_type": "stream",
     "text": [
      "\n",
      "      Epoch    GPU_mem   box_loss   cls_loss   dfl_loss  Instances       Size\n"
     ]
    },
    {
     "name": "stderr",
     "output_type": "stream",
     "text": [
      "      44/50      5.47G      1.023     0.8281      1.184         37        640: 100%|██████████| 50/50 [00:20<00:00,  2.45it/s]\n",
      "                 Class     Images  Instances      Box(P          R      mAP50  mAP50-95): 100%|██████████| 25/25 [00:07<00:00,  3.56it/s]"
     ]
    },
    {
     "name": "stdout",
     "output_type": "stream",
     "text": [
      "                   all        500       2090      0.674      0.546      0.587      0.336\n"
     ]
    },
    {
     "name": "stderr",
     "output_type": "stream",
     "text": [
      "\n"
     ]
    },
    {
     "name": "stdout",
     "output_type": "stream",
     "text": [
      "\n",
      "      Epoch    GPU_mem   box_loss   cls_loss   dfl_loss  Instances       Size\n"
     ]
    },
    {
     "name": "stderr",
     "output_type": "stream",
     "text": [
      "      45/50      5.46G     0.9772     0.7739      1.153         29        640: 100%|██████████| 50/50 [00:20<00:00,  2.46it/s]\n",
      "                 Class     Images  Instances      Box(P          R      mAP50  mAP50-95): 100%|██████████| 25/25 [00:06<00:00,  3.58it/s]"
     ]
    },
    {
     "name": "stdout",
     "output_type": "stream",
     "text": [
      "                   all        500       2090      0.657      0.561      0.592      0.343\n"
     ]
    },
    {
     "name": "stderr",
     "output_type": "stream",
     "text": [
      "\n"
     ]
    },
    {
     "name": "stdout",
     "output_type": "stream",
     "text": [
      "\n",
      "      Epoch    GPU_mem   box_loss   cls_loss   dfl_loss  Instances       Size\n"
     ]
    },
    {
     "name": "stderr",
     "output_type": "stream",
     "text": [
      "      46/50      5.39G     0.9723     0.7735      1.149         44        640: 100%|██████████| 50/50 [00:20<00:00,  2.47it/s]\n",
      "                 Class     Images  Instances      Box(P          R      mAP50  mAP50-95): 100%|██████████| 25/25 [00:06<00:00,  3.62it/s]"
     ]
    },
    {
     "name": "stdout",
     "output_type": "stream",
     "text": [
      "                   all        500       2090      0.632      0.563      0.588       0.34\n"
     ]
    },
    {
     "name": "stderr",
     "output_type": "stream",
     "text": [
      "\n"
     ]
    },
    {
     "name": "stdout",
     "output_type": "stream",
     "text": [
      "\n",
      "      Epoch    GPU_mem   box_loss   cls_loss   dfl_loss  Instances       Size\n"
     ]
    },
    {
     "name": "stderr",
     "output_type": "stream",
     "text": [
      "      47/50      5.45G     0.9339     0.7392      1.124         20        640: 100%|██████████| 50/50 [00:20<00:00,  2.49it/s]\n",
      "                 Class     Images  Instances      Box(P          R      mAP50  mAP50-95): 100%|██████████| 25/25 [00:07<00:00,  3.53it/s]"
     ]
    },
    {
     "name": "stdout",
     "output_type": "stream",
     "text": [
      "                   all        500       2090      0.675      0.551      0.604      0.349\n"
     ]
    },
    {
     "name": "stderr",
     "output_type": "stream",
     "text": [
      "\n"
     ]
    },
    {
     "name": "stdout",
     "output_type": "stream",
     "text": [
      "\n",
      "      Epoch    GPU_mem   box_loss   cls_loss   dfl_loss  Instances       Size\n"
     ]
    },
    {
     "name": "stderr",
     "output_type": "stream",
     "text": [
      "      48/50      5.46G      0.931     0.7235      1.137         61        640: 100%|██████████| 50/50 [00:20<00:00,  2.43it/s]\n",
      "                 Class     Images  Instances      Box(P          R      mAP50  mAP50-95): 100%|██████████| 25/25 [00:06<00:00,  3.66it/s]"
     ]
    },
    {
     "name": "stdout",
     "output_type": "stream",
     "text": [
      "                   all        500       2090      0.698      0.541      0.607      0.357\n"
     ]
    },
    {
     "name": "stderr",
     "output_type": "stream",
     "text": [
      "\n"
     ]
    },
    {
     "name": "stdout",
     "output_type": "stream",
     "text": [
      "\n",
      "      Epoch    GPU_mem   box_loss   cls_loss   dfl_loss  Instances       Size\n"
     ]
    },
    {
     "name": "stderr",
     "output_type": "stream",
     "text": [
      "      49/50      5.46G     0.9286       0.73       1.12         47        640: 100%|██████████| 50/50 [00:20<00:00,  2.47it/s]\n",
      "                 Class     Images  Instances      Box(P          R      mAP50  mAP50-95): 100%|██████████| 25/25 [00:07<00:00,  3.53it/s]"
     ]
    },
    {
     "name": "stdout",
     "output_type": "stream",
     "text": [
      "                   all        500       2090       0.68      0.554      0.602      0.354\n"
     ]
    },
    {
     "name": "stderr",
     "output_type": "stream",
     "text": [
      "\n"
     ]
    },
    {
     "name": "stdout",
     "output_type": "stream",
     "text": [
      "\n",
      "      Epoch    GPU_mem   box_loss   cls_loss   dfl_loss  Instances       Size\n"
     ]
    },
    {
     "name": "stderr",
     "output_type": "stream",
     "text": [
      "      50/50      5.45G      0.924      0.697      1.112         26        640: 100%|██████████| 50/50 [00:20<00:00,  2.48it/s]\n",
      "                 Class     Images  Instances      Box(P          R      mAP50  mAP50-95): 100%|██████████| 25/25 [00:06<00:00,  3.58it/s]"
     ]
    },
    {
     "name": "stdout",
     "output_type": "stream",
     "text": [
      "                   all        500       2090      0.663      0.575      0.606      0.353\n"
     ]
    },
    {
     "name": "stderr",
     "output_type": "stream",
     "text": [
      "\n"
     ]
    },
    {
     "name": "stdout",
     "output_type": "stream",
     "text": [
      "\n",
      "50 epochs completed in 0.403 hours.\n",
      "Optimizer stripped from /home/insomnius/.pyenv/runs/detect/train11/weights/last.pt, 52.0MB\n",
      "Optimizer stripped from /home/insomnius/.pyenv/runs/detect/train11/weights/best.pt, 52.0MB\n",
      "\n",
      "Validating /home/insomnius/.pyenv/runs/detect/train11/weights/best.pt...\n",
      "Ultralytics YOLOv8.1.38 🚀 Python-3.11.6 torch-2.2.1+cu121 CUDA:0 (NVIDIA GeForce RTX 3050, 8192MiB)\n",
      "Model summary (fused): 218 layers, 25840339 parameters, 0 gradients, 78.7 GFLOPs\n",
      "WARNING ⚠️ renaming data YAML 'validation' key to 'val' to match YOLO format.\n"
     ]
    },
    {
     "name": "stderr",
     "output_type": "stream",
     "text": [
      "                 Class     Images  Instances      Box(P          R      mAP50  mAP50-95): 100%|██████████| 25/25 [00:07<00:00,  3.17it/s]\n"
     ]
    },
    {
     "name": "stdout",
     "output_type": "stream",
     "text": [
      "                   all        500       2090      0.697       0.54      0.607      0.357\n",
      "Speed: 0.2ms preprocess, 9.2ms inference, 0.0ms loss, 1.4ms postprocess per image\n",
      "Results saved to \u001b[1m/home/insomnius/.pyenv/runs/detect/train11\u001b[0m\n"
     ]
    }
   ],
   "source": [
    "results = model.train(data='./yolov5-coco-datasets/dataset.yaml', epochs=50, imgsz=640, device=0, batch=10, plots=True)"
   ]
  },
  {
   "cell_type": "code",
   "execution_count": 8,
   "metadata": {},
   "outputs": [
    {
     "data": {
      "text/plain": [
       "ultralytics.utils.metrics.DetMetrics object with attributes:\n",
       "\n",
       "ap_class_index: array([0])\n",
       "box: ultralytics.utils.metrics.Metric object\n",
       "confusion_matrix: <ultralytics.utils.metrics.ConfusionMatrix object at 0x7f452dc92050>\n",
       "curves: ['Precision-Recall(B)', 'F1-Confidence(B)', 'Precision-Confidence(B)', 'Recall-Confidence(B)']\n",
       "curves_results: [[array([          0,    0.001001,    0.002002,    0.003003,    0.004004,    0.005005,    0.006006,    0.007007,    0.008008,    0.009009,     0.01001,    0.011011,    0.012012,    0.013013,    0.014014,    0.015015,    0.016016,    0.017017,    0.018018,    0.019019,     0.02002,    0.021021,    0.022022,    0.023023,\n",
       "          0.024024,    0.025025,    0.026026,    0.027027,    0.028028,    0.029029,     0.03003,    0.031031,    0.032032,    0.033033,    0.034034,    0.035035,    0.036036,    0.037037,    0.038038,    0.039039,     0.04004,    0.041041,    0.042042,    0.043043,    0.044044,    0.045045,    0.046046,    0.047047,\n",
       "          0.048048,    0.049049,     0.05005,    0.051051,    0.052052,    0.053053,    0.054054,    0.055055,    0.056056,    0.057057,    0.058058,    0.059059,     0.06006,    0.061061,    0.062062,    0.063063,    0.064064,    0.065065,    0.066066,    0.067067,    0.068068,    0.069069,     0.07007,    0.071071,\n",
       "          0.072072,    0.073073,    0.074074,    0.075075,    0.076076,    0.077077,    0.078078,    0.079079,     0.08008,    0.081081,    0.082082,    0.083083,    0.084084,    0.085085,    0.086086,    0.087087,    0.088088,    0.089089,     0.09009,    0.091091,    0.092092,    0.093093,    0.094094,    0.095095,\n",
       "          0.096096,    0.097097,    0.098098,    0.099099,      0.1001,      0.1011,      0.1021,      0.1031,      0.1041,     0.10511,     0.10611,     0.10711,     0.10811,     0.10911,     0.11011,     0.11111,     0.11211,     0.11311,     0.11411,     0.11512,     0.11612,     0.11712,     0.11812,     0.11912,\n",
       "           0.12012,     0.12112,     0.12212,     0.12312,     0.12412,     0.12513,     0.12613,     0.12713,     0.12813,     0.12913,     0.13013,     0.13113,     0.13213,     0.13313,     0.13413,     0.13514,     0.13614,     0.13714,     0.13814,     0.13914,     0.14014,     0.14114,     0.14214,     0.14314,\n",
       "           0.14414,     0.14515,     0.14615,     0.14715,     0.14815,     0.14915,     0.15015,     0.15115,     0.15215,     0.15315,     0.15415,     0.15516,     0.15616,     0.15716,     0.15816,     0.15916,     0.16016,     0.16116,     0.16216,     0.16316,     0.16416,     0.16517,     0.16617,     0.16717,\n",
       "           0.16817,     0.16917,     0.17017,     0.17117,     0.17217,     0.17317,     0.17417,     0.17518,     0.17618,     0.17718,     0.17818,     0.17918,     0.18018,     0.18118,     0.18218,     0.18318,     0.18418,     0.18519,     0.18619,     0.18719,     0.18819,     0.18919,     0.19019,     0.19119,\n",
       "           0.19219,     0.19319,     0.19419,      0.1952,      0.1962,      0.1972,      0.1982,      0.1992,      0.2002,      0.2012,      0.2022,      0.2032,      0.2042,     0.20521,     0.20621,     0.20721,     0.20821,     0.20921,     0.21021,     0.21121,     0.21221,     0.21321,     0.21421,     0.21522,\n",
       "           0.21622,     0.21722,     0.21822,     0.21922,     0.22022,     0.22122,     0.22222,     0.22322,     0.22422,     0.22523,     0.22623,     0.22723,     0.22823,     0.22923,     0.23023,     0.23123,     0.23223,     0.23323,     0.23423,     0.23524,     0.23624,     0.23724,     0.23824,     0.23924,\n",
       "           0.24024,     0.24124,     0.24224,     0.24324,     0.24424,     0.24525,     0.24625,     0.24725,     0.24825,     0.24925,     0.25025,     0.25125,     0.25225,     0.25325,     0.25425,     0.25526,     0.25626,     0.25726,     0.25826,     0.25926,     0.26026,     0.26126,     0.26226,     0.26326,\n",
       "           0.26426,     0.26527,     0.26627,     0.26727,     0.26827,     0.26927,     0.27027,     0.27127,     0.27227,     0.27327,     0.27427,     0.27528,     0.27628,     0.27728,     0.27828,     0.27928,     0.28028,     0.28128,     0.28228,     0.28328,     0.28428,     0.28529,     0.28629,     0.28729,\n",
       "           0.28829,     0.28929,     0.29029,     0.29129,     0.29229,     0.29329,     0.29429,      0.2953,      0.2963,      0.2973,      0.2983,      0.2993,      0.3003,      0.3013,      0.3023,      0.3033,      0.3043,     0.30531,     0.30631,     0.30731,     0.30831,     0.30931,     0.31031,     0.31131,\n",
       "           0.31231,     0.31331,     0.31431,     0.31532,     0.31632,     0.31732,     0.31832,     0.31932,     0.32032,     0.32132,     0.32232,     0.32332,     0.32432,     0.32533,     0.32633,     0.32733,     0.32833,     0.32933,     0.33033,     0.33133,     0.33233,     0.33333,     0.33433,     0.33534,\n",
       "           0.33634,     0.33734,     0.33834,     0.33934,     0.34034,     0.34134,     0.34234,     0.34334,     0.34434,     0.34535,     0.34635,     0.34735,     0.34835,     0.34935,     0.35035,     0.35135,     0.35235,     0.35335,     0.35435,     0.35536,     0.35636,     0.35736,     0.35836,     0.35936,\n",
       "           0.36036,     0.36136,     0.36236,     0.36336,     0.36436,     0.36537,     0.36637,     0.36737,     0.36837,     0.36937,     0.37037,     0.37137,     0.37237,     0.37337,     0.37437,     0.37538,     0.37638,     0.37738,     0.37838,     0.37938,     0.38038,     0.38138,     0.38238,     0.38338,\n",
       "           0.38438,     0.38539,     0.38639,     0.38739,     0.38839,     0.38939,     0.39039,     0.39139,     0.39239,     0.39339,     0.39439,      0.3954,      0.3964,      0.3974,      0.3984,      0.3994,      0.4004,      0.4014,      0.4024,      0.4034,      0.4044,     0.40541,     0.40641,     0.40741,\n",
       "           0.40841,     0.40941,     0.41041,     0.41141,     0.41241,     0.41341,     0.41441,     0.41542,     0.41642,     0.41742,     0.41842,     0.41942,     0.42042,     0.42142,     0.42242,     0.42342,     0.42442,     0.42543,     0.42643,     0.42743,     0.42843,     0.42943,     0.43043,     0.43143,\n",
       "           0.43243,     0.43343,     0.43443,     0.43544,     0.43644,     0.43744,     0.43844,     0.43944,     0.44044,     0.44144,     0.44244,     0.44344,     0.44444,     0.44545,     0.44645,     0.44745,     0.44845,     0.44945,     0.45045,     0.45145,     0.45245,     0.45345,     0.45445,     0.45546,\n",
       "           0.45646,     0.45746,     0.45846,     0.45946,     0.46046,     0.46146,     0.46246,     0.46346,     0.46446,     0.46547,     0.46647,     0.46747,     0.46847,     0.46947,     0.47047,     0.47147,     0.47247,     0.47347,     0.47447,     0.47548,     0.47648,     0.47748,     0.47848,     0.47948,\n",
       "           0.48048,     0.48148,     0.48248,     0.48348,     0.48448,     0.48549,     0.48649,     0.48749,     0.48849,     0.48949,     0.49049,     0.49149,     0.49249,     0.49349,     0.49449,      0.4955,      0.4965,      0.4975,      0.4985,      0.4995,      0.5005,      0.5015,      0.5025,      0.5035,\n",
       "            0.5045,     0.50551,     0.50651,     0.50751,     0.50851,     0.50951,     0.51051,     0.51151,     0.51251,     0.51351,     0.51451,     0.51552,     0.51652,     0.51752,     0.51852,     0.51952,     0.52052,     0.52152,     0.52252,     0.52352,     0.52452,     0.52553,     0.52653,     0.52753,\n",
       "           0.52853,     0.52953,     0.53053,     0.53153,     0.53253,     0.53353,     0.53453,     0.53554,     0.53654,     0.53754,     0.53854,     0.53954,     0.54054,     0.54154,     0.54254,     0.54354,     0.54454,     0.54555,     0.54655,     0.54755,     0.54855,     0.54955,     0.55055,     0.55155,\n",
       "           0.55255,     0.55355,     0.55455,     0.55556,     0.55656,     0.55756,     0.55856,     0.55956,     0.56056,     0.56156,     0.56256,     0.56356,     0.56456,     0.56557,     0.56657,     0.56757,     0.56857,     0.56957,     0.57057,     0.57157,     0.57257,     0.57357,     0.57457,     0.57558,\n",
       "           0.57658,     0.57758,     0.57858,     0.57958,     0.58058,     0.58158,     0.58258,     0.58358,     0.58458,     0.58559,     0.58659,     0.58759,     0.58859,     0.58959,     0.59059,     0.59159,     0.59259,     0.59359,     0.59459,      0.5956,      0.5966,      0.5976,      0.5986,      0.5996,\n",
       "            0.6006,      0.6016,      0.6026,      0.6036,      0.6046,     0.60561,     0.60661,     0.60761,     0.60861,     0.60961,     0.61061,     0.61161,     0.61261,     0.61361,     0.61461,     0.61562,     0.61662,     0.61762,     0.61862,     0.61962,     0.62062,     0.62162,     0.62262,     0.62362,\n",
       "           0.62462,     0.62563,     0.62663,     0.62763,     0.62863,     0.62963,     0.63063,     0.63163,     0.63263,     0.63363,     0.63463,     0.63564,     0.63664,     0.63764,     0.63864,     0.63964,     0.64064,     0.64164,     0.64264,     0.64364,     0.64464,     0.64565,     0.64665,     0.64765,\n",
       "           0.64865,     0.64965,     0.65065,     0.65165,     0.65265,     0.65365,     0.65465,     0.65566,     0.65666,     0.65766,     0.65866,     0.65966,     0.66066,     0.66166,     0.66266,     0.66366,     0.66466,     0.66567,     0.66667,     0.66767,     0.66867,     0.66967,     0.67067,     0.67167,\n",
       "           0.67267,     0.67367,     0.67467,     0.67568,     0.67668,     0.67768,     0.67868,     0.67968,     0.68068,     0.68168,     0.68268,     0.68368,     0.68468,     0.68569,     0.68669,     0.68769,     0.68869,     0.68969,     0.69069,     0.69169,     0.69269,     0.69369,     0.69469,      0.6957,\n",
       "            0.6967,      0.6977,      0.6987,      0.6997,      0.7007,      0.7017,      0.7027,      0.7037,      0.7047,     0.70571,     0.70671,     0.70771,     0.70871,     0.70971,     0.71071,     0.71171,     0.71271,     0.71371,     0.71471,     0.71572,     0.71672,     0.71772,     0.71872,     0.71972,\n",
       "           0.72072,     0.72172,     0.72272,     0.72372,     0.72472,     0.72573,     0.72673,     0.72773,     0.72873,     0.72973,     0.73073,     0.73173,     0.73273,     0.73373,     0.73473,     0.73574,     0.73674,     0.73774,     0.73874,     0.73974,     0.74074,     0.74174,     0.74274,     0.74374,\n",
       "           0.74474,     0.74575,     0.74675,     0.74775,     0.74875,     0.74975,     0.75075,     0.75175,     0.75275,     0.75375,     0.75475,     0.75576,     0.75676,     0.75776,     0.75876,     0.75976,     0.76076,     0.76176,     0.76276,     0.76376,     0.76476,     0.76577,     0.76677,     0.76777,\n",
       "           0.76877,     0.76977,     0.77077,     0.77177,     0.77277,     0.77377,     0.77477,     0.77578,     0.77678,     0.77778,     0.77878,     0.77978,     0.78078,     0.78178,     0.78278,     0.78378,     0.78478,     0.78579,     0.78679,     0.78779,     0.78879,     0.78979,     0.79079,     0.79179,\n",
       "           0.79279,     0.79379,     0.79479,      0.7958,      0.7968,      0.7978,      0.7988,      0.7998,      0.8008,      0.8018,      0.8028,      0.8038,      0.8048,     0.80581,     0.80681,     0.80781,     0.80881,     0.80981,     0.81081,     0.81181,     0.81281,     0.81381,     0.81481,     0.81582,\n",
       "           0.81682,     0.81782,     0.81882,     0.81982,     0.82082,     0.82182,     0.82282,     0.82382,     0.82482,     0.82583,     0.82683,     0.82783,     0.82883,     0.82983,     0.83083,     0.83183,     0.83283,     0.83383,     0.83483,     0.83584,     0.83684,     0.83784,     0.83884,     0.83984,\n",
       "           0.84084,     0.84184,     0.84284,     0.84384,     0.84484,     0.84585,     0.84685,     0.84785,     0.84885,     0.84985,     0.85085,     0.85185,     0.85285,     0.85385,     0.85485,     0.85586,     0.85686,     0.85786,     0.85886,     0.85986,     0.86086,     0.86186,     0.86286,     0.86386,\n",
       "           0.86486,     0.86587,     0.86687,     0.86787,     0.86887,     0.86987,     0.87087,     0.87187,     0.87287,     0.87387,     0.87487,     0.87588,     0.87688,     0.87788,     0.87888,     0.87988,     0.88088,     0.88188,     0.88288,     0.88388,     0.88488,     0.88589,     0.88689,     0.88789,\n",
       "           0.88889,     0.88989,     0.89089,     0.89189,     0.89289,     0.89389,     0.89489,      0.8959,      0.8969,      0.8979,      0.8989,      0.8999,      0.9009,      0.9019,      0.9029,      0.9039,      0.9049,     0.90591,     0.90691,     0.90791,     0.90891,     0.90991,     0.91091,     0.91191,\n",
       "           0.91291,     0.91391,     0.91491,     0.91592,     0.91692,     0.91792,     0.91892,     0.91992,     0.92092,     0.92192,     0.92292,     0.92392,     0.92492,     0.92593,     0.92693,     0.92793,     0.92893,     0.92993,     0.93093,     0.93193,     0.93293,     0.93393,     0.93493,     0.93594,\n",
       "           0.93694,     0.93794,     0.93894,     0.93994,     0.94094,     0.94194,     0.94294,     0.94394,     0.94494,     0.94595,     0.94695,     0.94795,     0.94895,     0.94995,     0.95095,     0.95195,     0.95295,     0.95395,     0.95495,     0.95596,     0.95696,     0.95796,     0.95896,     0.95996,\n",
       "           0.96096,     0.96196,     0.96296,     0.96396,     0.96496,     0.96597,     0.96697,     0.96797,     0.96897,     0.96997,     0.97097,     0.97197,     0.97297,     0.97397,     0.97497,     0.97598,     0.97698,     0.97798,     0.97898,     0.97998,     0.98098,     0.98198,     0.98298,     0.98398,\n",
       "           0.98498,     0.98599,     0.98699,     0.98799,     0.98899,     0.98999,     0.99099,     0.99199,     0.99299,     0.99399,     0.99499,       0.996,       0.997,       0.998,       0.999,           1]), array([[          1,           1,           1,           1,           1,           1,           1,           1,           1,           1,           1,           1,           1,           1,           1,           1,      0.9899,      0.9899,      0.9899,      0.9899,      0.9899,      0.9899,      0.9899,\n",
       "             0.9899,      0.9899,      0.9899,      0.9899,      0.9899,      0.9899,      0.9899,      0.9899,      0.9899,      0.9899,      0.9899,      0.9899,      0.9899,      0.9899,      0.9899,      0.9899,      0.9899,      0.9899,      0.9899,      0.9899,      0.9899,      0.9899,      0.9899,\n",
       "             0.9899,     0.98131,     0.98131,     0.98131,     0.98131,     0.97608,     0.97608,     0.97608,     0.97608,     0.97608,     0.97608,     0.97608,     0.97608,     0.97608,     0.97608,     0.97608,     0.97608,     0.97608,     0.97608,     0.97608,     0.97608,     0.97608,     0.97608,\n",
       "            0.97608,     0.97608,     0.97608,     0.97608,     0.97608,     0.97608,     0.97608,     0.97608,     0.97608,     0.97608,     0.97608,     0.97608,     0.97608,     0.97608,     0.97608,     0.97608,     0.97608,     0.97608,     0.97608,     0.97608,     0.97608,     0.97608,     0.97608,\n",
       "            0.97608,     0.97608,     0.97608,     0.97608,     0.97608,     0.97608,     0.97411,     0.97411,     0.97411,     0.97411,     0.97411,     0.97411,     0.97411,     0.97411,     0.97411,     0.97411,     0.97411,     0.97411,     0.97411,     0.97411,     0.97411,     0.97411,     0.97411,\n",
       "            0.97411,     0.97411,     0.97411,     0.97411,     0.97411,     0.97411,     0.97411,     0.97411,     0.97411,     0.97411,     0.97411,     0.97411,     0.97411,     0.97411,     0.97411,     0.97411,     0.97411,     0.97411,     0.97411,     0.97411,     0.97411,     0.97411,     0.97411,\n",
       "            0.97411,     0.97411,     0.97411,     0.97411,     0.97411,     0.97411,     0.97106,     0.96825,     0.96594,     0.96594,     0.96594,     0.96594,     0.96375,     0.96375,     0.96375,     0.96364,     0.96364,     0.96364,     0.96364,     0.96364,     0.96364,     0.96364,     0.96364,\n",
       "            0.96364,     0.96364,     0.96364,     0.96364,     0.96364,     0.96364,     0.96364,     0.96364,     0.96364,     0.96364,     0.96364,     0.96364,     0.96364,     0.96364,     0.96364,     0.96364,     0.96364,     0.96241,     0.96241,     0.96241,     0.96241,     0.96241,     0.96241,\n",
       "             0.9601,     0.95913,     0.95913,     0.95913,     0.95913,     0.95913,     0.95913,     0.95704,      0.9555,      0.9555,      0.9555,      0.9555,     0.95216,     0.95216,     0.95216,     0.95216,     0.95165,     0.95165,     0.95165,     0.95165,     0.95165,     0.95165,     0.95165,\n",
       "            0.95011,     0.95011,     0.95011,     0.94647,     0.94647,     0.94468,      0.9434,      0.9434,      0.9434,     0.94191,     0.94191,     0.93661,     0.93496,     0.93359,     0.93359,     0.93359,     0.93359,     0.93359,     0.93359,     0.93359,     0.93359,     0.93359,     0.93321,\n",
       "            0.93321,     0.93321,     0.93321,     0.93321,      0.9322,      0.9322,      0.9322,     0.93071,     0.92737,     0.92674,     0.92674,     0.92674,     0.92613,     0.92613,     0.92613,     0.92613,     0.92612,     0.92612,     0.92612,     0.92612,     0.92612,     0.92612,     0.92612,\n",
       "            0.92612,     0.92612,     0.92612,     0.92612,     0.92612,     0.92517,     0.92517,     0.92517,     0.92399,     0.92269,     0.91987,     0.91954,     0.91954,     0.91954,     0.91954,     0.91922,     0.91922,     0.91922,     0.91922,     0.91814,     0.91814,     0.91401,     0.91398,\n",
       "            0.91398,     0.91398,     0.91398,     0.91398,     0.91398,     0.91398,     0.91398,     0.91398,     0.91398,     0.91061,     0.91061,     0.91061,      0.9099,      0.9099,      0.9099,      0.9099,      0.9099,      0.9099,      0.9099,     0.90936,     0.90936,     0.90936,     0.90566,\n",
       "             0.9049,      0.9049,     0.90313,     0.90313,     0.90313,     0.90295,     0.90295,     0.90295,     0.90111,     0.90111,     0.90111,     0.89452,     0.89452,     0.89452,     0.89388,     0.89388,     0.89339,     0.89339,     0.89272,     0.89272,     0.89272,     0.89272,     0.89272,\n",
       "            0.89272,     0.88947,     0.88889,     0.88889,     0.88831,     0.88616,     0.88535,     0.88535,     0.88535,     0.88535,     0.88535,     0.88287,     0.88287,     0.88287,     0.88125,     0.87931,     0.87931,     0.87931,     0.87931,     0.87931,      0.8782,      0.8782,      0.8782,\n",
       "            0.87743,     0.87651,      0.8747,      0.8747,      0.8747,      0.8747,     0.87396,     0.87044,     0.87044,     0.87007,     0.87007,     0.87007,     0.87007,     0.87007,     0.86851,     0.86766,     0.86598,     0.86446,     0.86364,     0.86133,     0.86133,     0.86067,     0.85871,\n",
       "            0.85871,     0.85871,     0.85871,     0.85871,     0.85871,     0.85871,     0.85871,     0.85839,     0.85839,     0.85761,     0.85637,     0.85637,     0.85392,     0.85381,     0.85381,     0.85381,     0.85381,     0.85381,     0.85263,     0.85263,     0.85057,     0.85057,        0.85,\n",
       "            0.84948,     0.84948,     0.84948,      0.8478,      0.8478,      0.8478,     0.84725,     0.84654,     0.84646,     0.84646,     0.84592,     0.84453,     0.84347,     0.84347,     0.84143,     0.84008,     0.83972,     0.83972,     0.83922,     0.83705,     0.83705,     0.83705,     0.83333,\n",
       "            0.83205,     0.83078,     0.82873,     0.82781,     0.82781,     0.82736,     0.82535,      0.8243,     0.82293,     0.82096,      0.8207,     0.81726,     0.81711,     0.81711,     0.81711,     0.81711,     0.81391,     0.81312,     0.81312,     0.81038,     0.80906,     0.80906,       0.806,\n",
       "            0.80475,     0.80368,     0.80192,     0.80087,     0.80052,     0.80035,     0.79626,     0.79626,     0.79626,     0.79626,     0.79626,     0.79626,     0.79594,     0.79561,     0.79261,     0.79149,     0.79149,     0.79035,     0.78974,     0.78974,      0.7883,     0.78414,     0.78275,\n",
       "            0.78247,     0.78011,     0.77858,     0.77769,     0.77751,     0.77751,     0.77751,     0.77557,     0.77532,     0.77524,      0.7748,     0.77394,     0.77266,     0.77103,     0.77078,     0.77012,     0.76911,     0.76846,     0.76664,     0.76565,      0.7631,     0.76126,     0.76126,\n",
       "            0.76126,     0.76126,     0.75821,     0.75744,     0.75668,     0.75648,      0.7559,     0.75497,     0.75422,      0.7531,     0.75274,       0.752,     0.74964,     0.74946,     0.74713,     0.74642,     0.74555,     0.74538,     0.74401,     0.74401,     0.74401,     0.74401,      0.7435,\n",
       "            0.74266,     0.74266,     0.74128,     0.74079,     0.73994,     0.73946,     0.73931,     0.73814,       0.738,     0.73684,     0.73569,     0.73456,     0.73342,      0.7323,      0.7277,      0.7277,      0.7277,     0.72583,     0.72541,     0.72541,     0.72434,     0.72423,     0.72088,\n",
       "            0.72088,     0.72013,     0.71909,     0.71853,     0.71419,     0.71347,     0.70931,     0.70878,     0.70382,     0.70331,     0.69734,     0.69667,     0.69405,     0.69104,     0.68784,     0.68589,     0.68589,     0.68566,     0.68358,     0.68274,      0.6819,     0.67866,     0.67664,\n",
       "            0.67544,     0.67542,     0.67324,     0.67244,     0.67244,     0.66973,     0.66667,     0.66553,     0.66553,     0.66067,     0.66067,     0.66031,     0.65996,     0.65832,     0.65687,     0.65508,     0.65294,     0.65153,     0.64908,      0.6477,     0.64494,     0.64397,     0.64397,\n",
       "            0.64297,     0.63896,     0.63732,     0.63484,     0.63257,     0.63065,     0.62907,     0.62622,     0.62538,     0.62538,     0.62417,     0.62335,     0.62228,     0.62192,     0.62192,     0.62192,     0.62192,     0.62012,     0.61711,     0.61443,      0.6124,     0.61008,     0.60631,\n",
       "            0.59704,     0.58984,     0.58857,     0.58484,      0.5838,     0.58372,     0.58054,     0.57782,     0.57663,     0.57233,     0.56938,     0.56742,      0.5663,     0.56146,      0.5613,     0.55807,     0.55604,     0.55546,     0.55417,     0.55053,     0.54951,     0.54822,      0.5463,\n",
       "            0.54416,     0.54401,     0.54401,     0.54345,     0.54342,     0.53906,     0.53704,     0.53567,     0.53409,     0.52655,     0.52481,     0.52066,     0.51798,     0.51633,     0.51532,     0.51232,     0.51034,     0.50838,     0.50415,     0.50187,     0.49759,     0.49595,     0.49595,\n",
       "             0.4945,      0.4936,     0.48879,     0.48828,     0.48586,     0.48569,     0.48416,     0.48229,     0.47594,     0.47122,     0.47047,     0.46872,     0.46812,     0.46563,     0.46242,     0.46059,     0.45972,     0.45795,     0.45664,     0.45523,     0.45177,     0.44705,     0.44579,\n",
       "            0.44066,     0.43647,     0.43627,     0.43383,     0.43307,     0.43182,     0.43062,     0.42914,     0.42369,     0.42038,     0.41579,     0.41503,     0.41416,      0.4102,     0.40878,     0.40737,      0.4062,     0.40446,     0.40151,     0.40067,     0.39861,     0.39818,     0.39572,\n",
       "            0.39486,     0.39261,     0.38665,     0.38265,     0.38116,     0.37587,     0.37529,     0.37388,     0.37229,     0.37029,     0.36828,     0.36657,     0.36533,     0.36205,     0.36006,     0.35879,     0.35874,     0.35771,     0.35771,     0.35426,     0.35364,     0.35152,     0.35034,\n",
       "            0.34722,     0.34615,     0.34501,     0.34484,     0.34145,     0.33737,     0.33541,     0.33114,      0.3302,     0.32855,      0.3244,     0.32296,     0.32242,     0.31986,     0.31701,     0.31507,     0.31322,     0.31019,      0.3094,     0.30689,     0.30613,     0.30506,     0.30277,\n",
       "            0.30172,     0.30111,     0.30056,     0.29568,     0.29415,     0.29176,     0.28915,     0.28438,     0.28242,     0.28176,     0.27741,     0.27211,     0.27156,     0.26883,     0.26696,     0.26474,     0.26338,     0.26332,     0.26234,      0.2603,     0.25123,      0.2504,     0.24762,\n",
       "            0.24412,     0.24091,     0.23688,     0.23166,     0.22952,     0.22851,     0.22813,     0.22552,     0.22199,     0.22077,     0.21936,     0.21423,     0.21265,     0.21121,     0.21023,      0.2102,     0.20555,     0.20371,     0.20242,     0.19983,     0.19893,     0.19519,     0.18954,\n",
       "            0.18713,     0.18401,     0.18316,     0.18254,     0.18121,     0.17734,     0.17422,      0.1721,     0.16869,     0.16553,     0.16409,     0.16045,     0.15631,     0.15405,      0.1508,      0.1506,     0.15018,     0.14941,     0.14405,     0.14148,     0.14101,     0.14046,     0.13519,\n",
       "            0.13438,     0.12885,     0.12877,     0.12552,     0.12253,     0.11948,     0.11894,     0.11636,     0.11533,     0.11085,     0.10974,     0.10716,     0.10608,     0.10496,     0.10273,      0.1015,     0.10022,    0.098393,    0.096062,    0.095844,     0.09357,    0.092395,    0.090411,\n",
       "           0.089825,    0.086854,    0.085147,    0.084393,    0.082925,    0.081157,    0.079156,    0.076795,    0.075763,     0.07345,    0.072042,    0.069512,    0.069259,    0.066672,    0.066652,    0.064389,    0.064323,    0.062999,     0.06259,    0.062181,    0.061772,    0.061362,    0.060953,\n",
       "           0.060544,    0.060135,    0.059726,    0.059317,    0.058908,    0.058499,     0.05809,    0.057681,    0.057272,    0.056863,    0.056453,    0.056044,    0.055635,    0.055226,    0.054817,    0.054408,    0.053999,     0.05359,    0.053181,    0.052772,    0.052363,    0.051954,    0.051544,\n",
       "           0.051135,    0.050726,    0.050317,    0.049908,    0.049499,     0.04909,    0.048681,    0.048272,    0.047863,    0.047454,    0.047045,    0.046635,    0.046226,    0.045817,    0.045408,    0.044999,     0.04459,    0.044181,    0.043772,    0.043363,    0.042954,    0.042545,    0.042136,\n",
       "           0.041726,    0.041317,    0.040908,    0.040499,     0.04009,    0.039681,    0.039272,    0.038863,    0.038454,    0.038045,    0.037636,    0.037227,    0.036817,    0.036408,    0.035999,     0.03559,    0.035181,    0.034772,    0.034363,    0.033954,    0.033545,    0.033136,    0.032727,\n",
       "           0.032318,    0.031908,    0.031499,     0.03109,    0.030681,    0.030272,    0.029863,    0.029454,    0.029045,    0.028636,    0.028227,    0.027818,    0.027409,    0.026999,     0.02659,    0.026181,    0.025772,    0.025363,    0.024954,    0.024545,    0.024136,    0.023727,    0.023318,\n",
       "           0.022909,      0.0225,     0.02209,    0.021681,    0.021272,    0.020863,    0.020454,    0.020045,    0.019636,    0.019227,    0.018818,    0.018409,       0.018,    0.017591,    0.017181,    0.016772,    0.016363,    0.015954,    0.015545,    0.015136,    0.014727,    0.014318,    0.013909,\n",
       "             0.0135,    0.013091,    0.012682,    0.012272,    0.011863,    0.011454,    0.011045,    0.010636,    0.010227,    0.009818,   0.0094089,   0.0089998,   0.0085907,   0.0081817,   0.0077726,   0.0073635,   0.0069544,   0.0065453,   0.0061362,   0.0057272,   0.0053181,    0.004909,   0.0044999,\n",
       "          0.0040908,   0.0036817,   0.0032727,   0.0028636,   0.0024545,   0.0020454,   0.0016363,   0.0012272,  0.00081817,  0.00040908,           0]]), 'Recall', 'Precision'], [array([          0,    0.001001,    0.002002,    0.003003,    0.004004,    0.005005,    0.006006,    0.007007,    0.008008,    0.009009,     0.01001,    0.011011,    0.012012,    0.013013,    0.014014,    0.015015,    0.016016,    0.017017,    0.018018,    0.019019,     0.02002,    0.021021,    0.022022,    0.023023,\n",
       "          0.024024,    0.025025,    0.026026,    0.027027,    0.028028,    0.029029,     0.03003,    0.031031,    0.032032,    0.033033,    0.034034,    0.035035,    0.036036,    0.037037,    0.038038,    0.039039,     0.04004,    0.041041,    0.042042,    0.043043,    0.044044,    0.045045,    0.046046,    0.047047,\n",
       "          0.048048,    0.049049,     0.05005,    0.051051,    0.052052,    0.053053,    0.054054,    0.055055,    0.056056,    0.057057,    0.058058,    0.059059,     0.06006,    0.061061,    0.062062,    0.063063,    0.064064,    0.065065,    0.066066,    0.067067,    0.068068,    0.069069,     0.07007,    0.071071,\n",
       "          0.072072,    0.073073,    0.074074,    0.075075,    0.076076,    0.077077,    0.078078,    0.079079,     0.08008,    0.081081,    0.082082,    0.083083,    0.084084,    0.085085,    0.086086,    0.087087,    0.088088,    0.089089,     0.09009,    0.091091,    0.092092,    0.093093,    0.094094,    0.095095,\n",
       "          0.096096,    0.097097,    0.098098,    0.099099,      0.1001,      0.1011,      0.1021,      0.1031,      0.1041,     0.10511,     0.10611,     0.10711,     0.10811,     0.10911,     0.11011,     0.11111,     0.11211,     0.11311,     0.11411,     0.11512,     0.11612,     0.11712,     0.11812,     0.11912,\n",
       "           0.12012,     0.12112,     0.12212,     0.12312,     0.12412,     0.12513,     0.12613,     0.12713,     0.12813,     0.12913,     0.13013,     0.13113,     0.13213,     0.13313,     0.13413,     0.13514,     0.13614,     0.13714,     0.13814,     0.13914,     0.14014,     0.14114,     0.14214,     0.14314,\n",
       "           0.14414,     0.14515,     0.14615,     0.14715,     0.14815,     0.14915,     0.15015,     0.15115,     0.15215,     0.15315,     0.15415,     0.15516,     0.15616,     0.15716,     0.15816,     0.15916,     0.16016,     0.16116,     0.16216,     0.16316,     0.16416,     0.16517,     0.16617,     0.16717,\n",
       "           0.16817,     0.16917,     0.17017,     0.17117,     0.17217,     0.17317,     0.17417,     0.17518,     0.17618,     0.17718,     0.17818,     0.17918,     0.18018,     0.18118,     0.18218,     0.18318,     0.18418,     0.18519,     0.18619,     0.18719,     0.18819,     0.18919,     0.19019,     0.19119,\n",
       "           0.19219,     0.19319,     0.19419,      0.1952,      0.1962,      0.1972,      0.1982,      0.1992,      0.2002,      0.2012,      0.2022,      0.2032,      0.2042,     0.20521,     0.20621,     0.20721,     0.20821,     0.20921,     0.21021,     0.21121,     0.21221,     0.21321,     0.21421,     0.21522,\n",
       "           0.21622,     0.21722,     0.21822,     0.21922,     0.22022,     0.22122,     0.22222,     0.22322,     0.22422,     0.22523,     0.22623,     0.22723,     0.22823,     0.22923,     0.23023,     0.23123,     0.23223,     0.23323,     0.23423,     0.23524,     0.23624,     0.23724,     0.23824,     0.23924,\n",
       "           0.24024,     0.24124,     0.24224,     0.24324,     0.24424,     0.24525,     0.24625,     0.24725,     0.24825,     0.24925,     0.25025,     0.25125,     0.25225,     0.25325,     0.25425,     0.25526,     0.25626,     0.25726,     0.25826,     0.25926,     0.26026,     0.26126,     0.26226,     0.26326,\n",
       "           0.26426,     0.26527,     0.26627,     0.26727,     0.26827,     0.26927,     0.27027,     0.27127,     0.27227,     0.27327,     0.27427,     0.27528,     0.27628,     0.27728,     0.27828,     0.27928,     0.28028,     0.28128,     0.28228,     0.28328,     0.28428,     0.28529,     0.28629,     0.28729,\n",
       "           0.28829,     0.28929,     0.29029,     0.29129,     0.29229,     0.29329,     0.29429,      0.2953,      0.2963,      0.2973,      0.2983,      0.2993,      0.3003,      0.3013,      0.3023,      0.3033,      0.3043,     0.30531,     0.30631,     0.30731,     0.30831,     0.30931,     0.31031,     0.31131,\n",
       "           0.31231,     0.31331,     0.31431,     0.31532,     0.31632,     0.31732,     0.31832,     0.31932,     0.32032,     0.32132,     0.32232,     0.32332,     0.32432,     0.32533,     0.32633,     0.32733,     0.32833,     0.32933,     0.33033,     0.33133,     0.33233,     0.33333,     0.33433,     0.33534,\n",
       "           0.33634,     0.33734,     0.33834,     0.33934,     0.34034,     0.34134,     0.34234,     0.34334,     0.34434,     0.34535,     0.34635,     0.34735,     0.34835,     0.34935,     0.35035,     0.35135,     0.35235,     0.35335,     0.35435,     0.35536,     0.35636,     0.35736,     0.35836,     0.35936,\n",
       "           0.36036,     0.36136,     0.36236,     0.36336,     0.36436,     0.36537,     0.36637,     0.36737,     0.36837,     0.36937,     0.37037,     0.37137,     0.37237,     0.37337,     0.37437,     0.37538,     0.37638,     0.37738,     0.37838,     0.37938,     0.38038,     0.38138,     0.38238,     0.38338,\n",
       "           0.38438,     0.38539,     0.38639,     0.38739,     0.38839,     0.38939,     0.39039,     0.39139,     0.39239,     0.39339,     0.39439,      0.3954,      0.3964,      0.3974,      0.3984,      0.3994,      0.4004,      0.4014,      0.4024,      0.4034,      0.4044,     0.40541,     0.40641,     0.40741,\n",
       "           0.40841,     0.40941,     0.41041,     0.41141,     0.41241,     0.41341,     0.41441,     0.41542,     0.41642,     0.41742,     0.41842,     0.41942,     0.42042,     0.42142,     0.42242,     0.42342,     0.42442,     0.42543,     0.42643,     0.42743,     0.42843,     0.42943,     0.43043,     0.43143,\n",
       "           0.43243,     0.43343,     0.43443,     0.43544,     0.43644,     0.43744,     0.43844,     0.43944,     0.44044,     0.44144,     0.44244,     0.44344,     0.44444,     0.44545,     0.44645,     0.44745,     0.44845,     0.44945,     0.45045,     0.45145,     0.45245,     0.45345,     0.45445,     0.45546,\n",
       "           0.45646,     0.45746,     0.45846,     0.45946,     0.46046,     0.46146,     0.46246,     0.46346,     0.46446,     0.46547,     0.46647,     0.46747,     0.46847,     0.46947,     0.47047,     0.47147,     0.47247,     0.47347,     0.47447,     0.47548,     0.47648,     0.47748,     0.47848,     0.47948,\n",
       "           0.48048,     0.48148,     0.48248,     0.48348,     0.48448,     0.48549,     0.48649,     0.48749,     0.48849,     0.48949,     0.49049,     0.49149,     0.49249,     0.49349,     0.49449,      0.4955,      0.4965,      0.4975,      0.4985,      0.4995,      0.5005,      0.5015,      0.5025,      0.5035,\n",
       "            0.5045,     0.50551,     0.50651,     0.50751,     0.50851,     0.50951,     0.51051,     0.51151,     0.51251,     0.51351,     0.51451,     0.51552,     0.51652,     0.51752,     0.51852,     0.51952,     0.52052,     0.52152,     0.52252,     0.52352,     0.52452,     0.52553,     0.52653,     0.52753,\n",
       "           0.52853,     0.52953,     0.53053,     0.53153,     0.53253,     0.53353,     0.53453,     0.53554,     0.53654,     0.53754,     0.53854,     0.53954,     0.54054,     0.54154,     0.54254,     0.54354,     0.54454,     0.54555,     0.54655,     0.54755,     0.54855,     0.54955,     0.55055,     0.55155,\n",
       "           0.55255,     0.55355,     0.55455,     0.55556,     0.55656,     0.55756,     0.55856,     0.55956,     0.56056,     0.56156,     0.56256,     0.56356,     0.56456,     0.56557,     0.56657,     0.56757,     0.56857,     0.56957,     0.57057,     0.57157,     0.57257,     0.57357,     0.57457,     0.57558,\n",
       "           0.57658,     0.57758,     0.57858,     0.57958,     0.58058,     0.58158,     0.58258,     0.58358,     0.58458,     0.58559,     0.58659,     0.58759,     0.58859,     0.58959,     0.59059,     0.59159,     0.59259,     0.59359,     0.59459,      0.5956,      0.5966,      0.5976,      0.5986,      0.5996,\n",
       "            0.6006,      0.6016,      0.6026,      0.6036,      0.6046,     0.60561,     0.60661,     0.60761,     0.60861,     0.60961,     0.61061,     0.61161,     0.61261,     0.61361,     0.61461,     0.61562,     0.61662,     0.61762,     0.61862,     0.61962,     0.62062,     0.62162,     0.62262,     0.62362,\n",
       "           0.62462,     0.62563,     0.62663,     0.62763,     0.62863,     0.62963,     0.63063,     0.63163,     0.63263,     0.63363,     0.63463,     0.63564,     0.63664,     0.63764,     0.63864,     0.63964,     0.64064,     0.64164,     0.64264,     0.64364,     0.64464,     0.64565,     0.64665,     0.64765,\n",
       "           0.64865,     0.64965,     0.65065,     0.65165,     0.65265,     0.65365,     0.65465,     0.65566,     0.65666,     0.65766,     0.65866,     0.65966,     0.66066,     0.66166,     0.66266,     0.66366,     0.66466,     0.66567,     0.66667,     0.66767,     0.66867,     0.66967,     0.67067,     0.67167,\n",
       "           0.67267,     0.67367,     0.67467,     0.67568,     0.67668,     0.67768,     0.67868,     0.67968,     0.68068,     0.68168,     0.68268,     0.68368,     0.68468,     0.68569,     0.68669,     0.68769,     0.68869,     0.68969,     0.69069,     0.69169,     0.69269,     0.69369,     0.69469,      0.6957,\n",
       "            0.6967,      0.6977,      0.6987,      0.6997,      0.7007,      0.7017,      0.7027,      0.7037,      0.7047,     0.70571,     0.70671,     0.70771,     0.70871,     0.70971,     0.71071,     0.71171,     0.71271,     0.71371,     0.71471,     0.71572,     0.71672,     0.71772,     0.71872,     0.71972,\n",
       "           0.72072,     0.72172,     0.72272,     0.72372,     0.72472,     0.72573,     0.72673,     0.72773,     0.72873,     0.72973,     0.73073,     0.73173,     0.73273,     0.73373,     0.73473,     0.73574,     0.73674,     0.73774,     0.73874,     0.73974,     0.74074,     0.74174,     0.74274,     0.74374,\n",
       "           0.74474,     0.74575,     0.74675,     0.74775,     0.74875,     0.74975,     0.75075,     0.75175,     0.75275,     0.75375,     0.75475,     0.75576,     0.75676,     0.75776,     0.75876,     0.75976,     0.76076,     0.76176,     0.76276,     0.76376,     0.76476,     0.76577,     0.76677,     0.76777,\n",
       "           0.76877,     0.76977,     0.77077,     0.77177,     0.77277,     0.77377,     0.77477,     0.77578,     0.77678,     0.77778,     0.77878,     0.77978,     0.78078,     0.78178,     0.78278,     0.78378,     0.78478,     0.78579,     0.78679,     0.78779,     0.78879,     0.78979,     0.79079,     0.79179,\n",
       "           0.79279,     0.79379,     0.79479,      0.7958,      0.7968,      0.7978,      0.7988,      0.7998,      0.8008,      0.8018,      0.8028,      0.8038,      0.8048,     0.80581,     0.80681,     0.80781,     0.80881,     0.80981,     0.81081,     0.81181,     0.81281,     0.81381,     0.81481,     0.81582,\n",
       "           0.81682,     0.81782,     0.81882,     0.81982,     0.82082,     0.82182,     0.82282,     0.82382,     0.82482,     0.82583,     0.82683,     0.82783,     0.82883,     0.82983,     0.83083,     0.83183,     0.83283,     0.83383,     0.83483,     0.83584,     0.83684,     0.83784,     0.83884,     0.83984,\n",
       "           0.84084,     0.84184,     0.84284,     0.84384,     0.84484,     0.84585,     0.84685,     0.84785,     0.84885,     0.84985,     0.85085,     0.85185,     0.85285,     0.85385,     0.85485,     0.85586,     0.85686,     0.85786,     0.85886,     0.85986,     0.86086,     0.86186,     0.86286,     0.86386,\n",
       "           0.86486,     0.86587,     0.86687,     0.86787,     0.86887,     0.86987,     0.87087,     0.87187,     0.87287,     0.87387,     0.87487,     0.87588,     0.87688,     0.87788,     0.87888,     0.87988,     0.88088,     0.88188,     0.88288,     0.88388,     0.88488,     0.88589,     0.88689,     0.88789,\n",
       "           0.88889,     0.88989,     0.89089,     0.89189,     0.89289,     0.89389,     0.89489,      0.8959,      0.8969,      0.8979,      0.8989,      0.8999,      0.9009,      0.9019,      0.9029,      0.9039,      0.9049,     0.90591,     0.90691,     0.90791,     0.90891,     0.90991,     0.91091,     0.91191,\n",
       "           0.91291,     0.91391,     0.91491,     0.91592,     0.91692,     0.91792,     0.91892,     0.91992,     0.92092,     0.92192,     0.92292,     0.92392,     0.92492,     0.92593,     0.92693,     0.92793,     0.92893,     0.92993,     0.93093,     0.93193,     0.93293,     0.93393,     0.93493,     0.93594,\n",
       "           0.93694,     0.93794,     0.93894,     0.93994,     0.94094,     0.94194,     0.94294,     0.94394,     0.94494,     0.94595,     0.94695,     0.94795,     0.94895,     0.94995,     0.95095,     0.95195,     0.95295,     0.95395,     0.95495,     0.95596,     0.95696,     0.95796,     0.95896,     0.95996,\n",
       "           0.96096,     0.96196,     0.96296,     0.96396,     0.96496,     0.96597,     0.96697,     0.96797,     0.96897,     0.96997,     0.97097,     0.97197,     0.97297,     0.97397,     0.97497,     0.97598,     0.97698,     0.97798,     0.97898,     0.97998,     0.98098,     0.98198,     0.98298,     0.98398,\n",
       "           0.98498,     0.98599,     0.98699,     0.98799,     0.98899,     0.98999,     0.99099,     0.99199,     0.99299,     0.99399,     0.99499,       0.996,       0.997,       0.998,       0.999,           1]), array([[    0.11787,     0.11787,     0.15779,     0.18803,     0.21185,     0.23313,      0.2509,     0.26564,     0.27927,     0.29228,     0.30345,     0.31481,     0.32392,     0.33206,     0.34079,     0.34876,     0.35499,     0.36287,     0.36908,     0.37572,     0.38198,     0.38759,     0.39137,\n",
       "            0.39551,     0.39997,     0.40539,     0.40895,     0.41244,     0.41565,     0.41949,     0.42334,     0.42725,     0.42922,     0.43256,     0.43502,     0.43825,     0.44096,     0.44403,     0.44675,     0.44868,     0.45185,     0.45382,     0.45639,     0.45901,     0.46067,     0.46325,\n",
       "            0.46525,     0.46698,     0.46941,     0.47086,     0.47231,     0.47444,     0.47574,      0.4762,     0.47769,     0.48058,     0.48202,     0.48363,      0.4859,     0.48718,     0.48799,     0.49025,     0.49217,     0.49327,     0.49427,     0.49595,     0.49714,     0.49853,     0.50139,\n",
       "            0.50237,      0.5042,     0.50507,     0.50608,     0.50767,     0.50893,     0.50967,     0.51091,     0.51193,     0.51365,     0.51482,     0.51566,     0.51691,      0.5185,      0.5196,     0.52084,     0.52279,     0.52422,      0.5252,     0.52545,      0.5264,     0.52671,     0.52802,\n",
       "            0.52868,     0.52971,     0.53075,     0.53238,     0.53354,     0.53445,      0.5348,     0.53561,     0.53746,      0.5386,     0.53957,     0.54012,     0.54005,     0.54059,     0.54162,     0.54229,     0.54333,     0.54365,     0.54474,     0.54521,     0.54606,     0.54633,      0.5465,\n",
       "            0.54764,     0.54767,     0.54805,     0.54938,     0.55058,     0.55139,     0.55219,     0.55339,     0.55384,     0.55498,     0.55565,     0.55584,      0.5566,     0.55674,     0.55751,     0.55832,     0.55905,     0.55978,      0.5596,     0.55988,     0.56026,     0.56045,     0.56145,\n",
       "            0.56223,     0.56278,     0.56319,     0.56339,     0.56386,     0.56429,     0.56483,     0.56556,     0.56604,     0.56678,      0.5669,     0.56779,     0.56874,     0.56906,     0.56932,     0.56999,     0.57065,     0.57121,     0.57255,     0.57307,     0.57352,     0.57341,     0.57392,\n",
       "            0.57516,     0.57614,     0.57736,     0.57775,     0.57786,     0.57835,      0.5787,     0.57916,     0.57965,     0.58015,     0.58048,     0.58109,     0.58143,     0.58124,     0.58039,     0.58052,     0.58088,     0.58105,     0.58147,     0.58192,     0.58195,     0.58201,     0.58207,\n",
       "            0.58246,     0.58396,       0.584,     0.58403,     0.58382,     0.58363,      0.5845,      0.5851,     0.58582,     0.58615,     0.58537,     0.58651,     0.58686,     0.58756,     0.58766,     0.58812,     0.58807,     0.58851,     0.58917,     0.58986,     0.59067,     0.59101,     0.59116,\n",
       "            0.59188,     0.59219,     0.59255,     0.59193,     0.59174,     0.59238,     0.59315,     0.59332,     0.59281,     0.59287,     0.59305,     0.59367,     0.59388,     0.59404,     0.59448,     0.59464,      0.5949,     0.59586,     0.59648,      0.5967,     0.59705,     0.59777,     0.59769,\n",
       "            0.59842,     0.59892,     0.59927,     0.59948,     0.59944,     0.60007,     0.60064,     0.60179,     0.60165,     0.60185,     0.60248,     0.60267,     0.60301,     0.60299,     0.60322,     0.60346,     0.60376,     0.60361,     0.60408,      0.6041,     0.60404,     0.60451,     0.60461,\n",
       "            0.60504,     0.60524,      0.6051,     0.60605,     0.60587,     0.60641,     0.60505,     0.60404,      0.6049,     0.60416,     0.60402,     0.60432,     0.60373,      0.6035,     0.60348,      0.6035,     0.60365,     0.60375,     0.60451,     0.60424,     0.60452,     0.60451,     0.60497,\n",
       "            0.60487,     0.60501,     0.60514,     0.60546,     0.60566,     0.60583,     0.60609,     0.60614,     0.60663,     0.60604,     0.60629,     0.60668,      0.6069,     0.60701,     0.60723,     0.60724,     0.60672,     0.60633,     0.60664,     0.60666,     0.60677,      0.6069,     0.60736,\n",
       "            0.60724,     0.60756,     0.60739,     0.60715,     0.60768,     0.60766,     0.60784,     0.60802,     0.60781,     0.60813,      0.6081,     0.60828,     0.60809,     0.60859,     0.60856,     0.60839,     0.60837,      0.6083,     0.60855,     0.60835,      0.6076,     0.60749,     0.60712,\n",
       "            0.60692,      0.6074,     0.60823,     0.60828,     0.60807,      0.6079,     0.60787,     0.60781,     0.60761,     0.60801,      0.6085,     0.60851,     0.60838,     0.60923,      0.6086,     0.60842,     0.60835,     0.60832,     0.60848,     0.60825,     0.60828,     0.60807,     0.60755,\n",
       "            0.60762,     0.60755,     0.60769,     0.60787,     0.60781,     0.60782,     0.60832,     0.60892,     0.60863,     0.60828,     0.60844,     0.60804,     0.60802,     0.60788,     0.60851,      0.6083,     0.60767,     0.60703,     0.60684,     0.60703,     0.60702,     0.60726,     0.60734,\n",
       "            0.60712,      0.6076,     0.60767,     0.60744,     0.60776,      0.6075,     0.60756,     0.60822,     0.60835,     0.60816,       0.608,     0.60851,     0.60846,     0.60874,     0.60854,     0.60815,      0.6083,     0.60894,     0.60887,     0.60926,     0.60971,     0.61009,     0.60959,\n",
       "            0.60955,     0.60966,      0.6093,     0.60964,     0.60985,     0.61025,     0.61085,     0.61039,     0.61034,     0.61059,     0.61034,     0.61103,      0.6114,      0.6111,     0.61129,     0.61138,     0.61094,     0.61112,     0.61124,     0.61137,     0.61116,     0.61116,     0.61084,\n",
       "            0.61041,     0.60996,     0.60974,     0.60967,     0.60975,     0.61024,      0.6105,     0.61027,     0.60994,     0.60967,     0.60956,     0.60927,     0.60858,     0.60804,     0.60776,     0.60828,     0.60845,     0.60808,     0.60729,     0.60689,     0.60631,     0.60684,     0.60676,\n",
       "            0.60685,     0.60733,     0.60761,     0.60724,     0.60759,     0.60698,     0.60703,     0.60712,     0.60696,     0.60676,      0.6069,     0.60671,     0.60686,     0.60659,     0.60637,     0.60646,     0.60611,     0.60547,     0.60537,     0.60509,     0.60424,      0.6041,       0.604,\n",
       "            0.60314,     0.60299,     0.60319,     0.60238,     0.60192,     0.60208,     0.60145,     0.60143,      0.6004,     0.59955,     0.59964,     0.59934,     0.59934,     0.59881,     0.59816,     0.59775,      0.5978,     0.59721,     0.59712,     0.59706,      0.5966,     0.59687,     0.59666,\n",
       "            0.59632,     0.59597,     0.59566,     0.59505,     0.59481,     0.59476,     0.59412,      0.5935,      0.5926,     0.59229,     0.59183,     0.59235,     0.59248,     0.59123,     0.58998,     0.58915,     0.58901,     0.58953,     0.58974,     0.58982,        0.59,     0.58981,     0.58974,\n",
       "             0.5897,     0.58988,     0.58923,     0.58933,     0.58881,     0.58859,     0.58869,     0.58835,     0.58841,     0.58847,     0.58761,     0.58774,     0.58644,     0.58677,     0.58627,     0.58604,     0.58618,     0.58531,       0.585,     0.58423,     0.58431,      0.5832,     0.58277,\n",
       "            0.58283,     0.58107,     0.58081,     0.58031,     0.58006,     0.57996,     0.58005,     0.57992,     0.58028,     0.57949,     0.57884,     0.57816,     0.57852,     0.57905,     0.57879,     0.57866,     0.57843,     0.57847,     0.57737,     0.57693,     0.57684,     0.57631,     0.57548,\n",
       "            0.57566,     0.57551,     0.57529,     0.57479,     0.57537,     0.57482,     0.57455,      0.5741,     0.57383,     0.57294,     0.57162,     0.56986,      0.5694,     0.56926,     0.56979,     0.56991,        0.57,     0.56961,     0.56918,     0.56822,     0.56789,     0.56761,     0.56735,\n",
       "            0.56744,     0.56708,     0.56681,     0.56612,     0.56628,     0.56664,     0.56638,     0.56584,     0.56449,     0.56459,     0.56477,     0.56463,     0.56472,     0.56504,     0.56476,     0.56341,     0.56362,     0.56262,     0.56316,     0.56189,     0.56053,     0.56001,     0.55973,\n",
       "            0.55973,     0.55981,     0.55876,     0.55853,     0.55835,     0.55806,     0.55749,     0.55715,     0.55691,       0.556,      0.5545,     0.55434,     0.55443,     0.55379,     0.55303,     0.55295,      0.5529,     0.55237,     0.55249,     0.55302,     0.55212,     0.55059,      0.5504,\n",
       "            0.55046,     0.54956,     0.54924,     0.54905,     0.54886,     0.54848,     0.54845,     0.54769,     0.54711,       0.547,     0.54573,      0.5446,     0.54469,     0.54398,     0.54255,     0.54186,     0.54125,     0.54073,     0.54089,     0.53993,     0.53945,     0.53896,     0.53842,\n",
       "            0.53849,      0.5373,     0.53681,     0.53505,     0.53425,     0.53118,      0.5307,     0.52972,     0.52922,     0.52803,     0.52718,      0.5263,     0.52587,     0.52537,     0.52563,     0.52399,     0.52319,     0.52269,     0.52113,     0.52015,      0.5199,     0.51912,     0.51666,\n",
       "            0.51632,     0.51603,     0.51503,     0.51412,     0.51315,     0.51161,     0.51139,     0.51135,     0.51144,     0.51049,     0.50957,     0.50918,     0.50892,     0.50845,     0.50811,      0.5071,     0.50675,     0.50529,     0.50375,     0.50266,     0.50144,     0.50106,     0.50145,\n",
       "            0.50064,     0.49976,     0.49924,     0.49646,     0.49604,      0.4953,     0.49535,     0.49384,     0.49253,     0.49217,      0.4905,     0.48945,     0.48836,      0.4876,     0.48782,     0.48677,     0.48623,     0.48501,     0.48465,     0.48379,     0.48288,     0.48261,      0.4805,\n",
       "            0.47933,     0.47879,     0.47811,     0.47681,     0.47622,     0.47477,     0.47373,      0.4704,     0.46949,     0.46913,      0.4674,     0.46748,     0.46636,     0.46599,     0.46562,     0.46393,       0.463,     0.46228,      0.4605,     0.46092,     0.46103,     0.46035,     0.45979,\n",
       "            0.45831,     0.45627,     0.45512,     0.45277,     0.45058,     0.44853,     0.44864,     0.44756,     0.44518,     0.44396,     0.44149,     0.43893,     0.43766,     0.43439,     0.43403,     0.43381,     0.43212,     0.42994,     0.42914,     0.42798,     0.42636,     0.42514,     0.42229,\n",
       "            0.42152,     0.42006,     0.41918,     0.41635,     0.41484,     0.41375,     0.41334,     0.41222,      0.4097,     0.40897,     0.40871,     0.40887,     0.40684,     0.40206,     0.40004,     0.39722,     0.39637,     0.39569,     0.39329,     0.39263,     0.39034,     0.38802,     0.38711,\n",
       "            0.38491,     0.38402,     0.38377,     0.38291,     0.38002,     0.37918,     0.37873,     0.37726,      0.3749,     0.37364,     0.37114,     0.36925,     0.36743,     0.36735,     0.36715,     0.36587,     0.36367,     0.36222,     0.36189,     0.36025,     0.35976,     0.35757,     0.35626,\n",
       "            0.35513,     0.35329,     0.35281,     0.35193,     0.35057,     0.34768,     0.34423,     0.34386,     0.34336,     0.34107,     0.33845,     0.33646,     0.33343,     0.33245,     0.32991,     0.32658,     0.32587,     0.32532,      0.3246,     0.32415,     0.32267,     0.32063,     0.31889,\n",
       "            0.31843,     0.31542,     0.31133,     0.30871,     0.30664,     0.30287,     0.30191,     0.29982,     0.29578,     0.29328,     0.29086,     0.28874,     0.28102,     0.27958,     0.27672,     0.27331,      0.2711,     0.26767,     0.26738,     0.26708,     0.26347,     0.26299,     0.26046,\n",
       "            0.25951,     0.25801,     0.25448,     0.25093,      0.2489,     0.24447,     0.24222,     0.23998,      0.2392,      0.2362,     0.23468,     0.23092,     0.22715,     0.22486,      0.2203,     0.21876,     0.21569,     0.21261,     0.21133,     0.20902,      0.2057,      0.1995,      0.1978,\n",
       "              0.197,     0.19396,     0.18846,     0.18685,     0.18289,      0.1774,     0.17585,     0.17386,     0.17179,     0.16775,     0.16369,     0.16043,     0.15932,      0.1563,     0.14893,     0.14561,     0.14456,     0.14059,     0.13958,     0.13759,     0.13702,     0.13463,     0.12882,\n",
       "            0.12412,     0.12286,     0.12113,     0.11517,     0.11173,     0.11047,     0.10832,     0.10734,     0.10318,     0.10129,    0.099523,    0.098377,    0.093419,    0.090132,    0.086395,     0.08532,    0.083677,    0.082643,     0.08007,    0.077751,    0.075564,    0.074897,    0.074144,\n",
       "           0.071902,    0.069166,    0.066509,    0.065504,    0.064227,    0.061828,    0.060793,     0.05904,    0.057191,    0.055564,    0.054389,    0.051624,     0.05051,    0.048668,    0.046026,    0.042321,    0.038602,    0.035745,      0.0334,    0.032926,    0.032294,    0.031079,    0.030024,\n",
       "           0.028675,    0.027722,    0.026037,    0.025184,    0.023379,    0.022996,    0.021654,    0.021174,    0.020273,    0.018653,    0.016859,    0.016216,    0.015713,    0.015231,    0.014897,    0.014574,    0.014252,    0.013865,    0.013478,    0.012766,     0.01208,    0.011595,    0.011111,\n",
       "           0.010625,   0.0091461,   0.0082319,   0.0077454,   0.0061546,    0.005535,   0.0052912,   0.0050472,   0.0048032,   0.0039163,   0.0036001,   0.0033557,   0.0031113,   0.0028668,   0.0023778,   0.0019065,   0.0017913,   0.0016761,   0.0015609,   0.0014457,   0.0013304,   0.0012152,   0.0010999,\n",
       "         0.00098463,           0,           0,           0,           0,           0,           0,           0,           0,           0,           0]]), 'Confidence', 'F1'], [array([          0,    0.001001,    0.002002,    0.003003,    0.004004,    0.005005,    0.006006,    0.007007,    0.008008,    0.009009,     0.01001,    0.011011,    0.012012,    0.013013,    0.014014,    0.015015,    0.016016,    0.017017,    0.018018,    0.019019,     0.02002,    0.021021,    0.022022,    0.023023,\n",
       "          0.024024,    0.025025,    0.026026,    0.027027,    0.028028,    0.029029,     0.03003,    0.031031,    0.032032,    0.033033,    0.034034,    0.035035,    0.036036,    0.037037,    0.038038,    0.039039,     0.04004,    0.041041,    0.042042,    0.043043,    0.044044,    0.045045,    0.046046,    0.047047,\n",
       "          0.048048,    0.049049,     0.05005,    0.051051,    0.052052,    0.053053,    0.054054,    0.055055,    0.056056,    0.057057,    0.058058,    0.059059,     0.06006,    0.061061,    0.062062,    0.063063,    0.064064,    0.065065,    0.066066,    0.067067,    0.068068,    0.069069,     0.07007,    0.071071,\n",
       "          0.072072,    0.073073,    0.074074,    0.075075,    0.076076,    0.077077,    0.078078,    0.079079,     0.08008,    0.081081,    0.082082,    0.083083,    0.084084,    0.085085,    0.086086,    0.087087,    0.088088,    0.089089,     0.09009,    0.091091,    0.092092,    0.093093,    0.094094,    0.095095,\n",
       "          0.096096,    0.097097,    0.098098,    0.099099,      0.1001,      0.1011,      0.1021,      0.1031,      0.1041,     0.10511,     0.10611,     0.10711,     0.10811,     0.10911,     0.11011,     0.11111,     0.11211,     0.11311,     0.11411,     0.11512,     0.11612,     0.11712,     0.11812,     0.11912,\n",
       "           0.12012,     0.12112,     0.12212,     0.12312,     0.12412,     0.12513,     0.12613,     0.12713,     0.12813,     0.12913,     0.13013,     0.13113,     0.13213,     0.13313,     0.13413,     0.13514,     0.13614,     0.13714,     0.13814,     0.13914,     0.14014,     0.14114,     0.14214,     0.14314,\n",
       "           0.14414,     0.14515,     0.14615,     0.14715,     0.14815,     0.14915,     0.15015,     0.15115,     0.15215,     0.15315,     0.15415,     0.15516,     0.15616,     0.15716,     0.15816,     0.15916,     0.16016,     0.16116,     0.16216,     0.16316,     0.16416,     0.16517,     0.16617,     0.16717,\n",
       "           0.16817,     0.16917,     0.17017,     0.17117,     0.17217,     0.17317,     0.17417,     0.17518,     0.17618,     0.17718,     0.17818,     0.17918,     0.18018,     0.18118,     0.18218,     0.18318,     0.18418,     0.18519,     0.18619,     0.18719,     0.18819,     0.18919,     0.19019,     0.19119,\n",
       "           0.19219,     0.19319,     0.19419,      0.1952,      0.1962,      0.1972,      0.1982,      0.1992,      0.2002,      0.2012,      0.2022,      0.2032,      0.2042,     0.20521,     0.20621,     0.20721,     0.20821,     0.20921,     0.21021,     0.21121,     0.21221,     0.21321,     0.21421,     0.21522,\n",
       "           0.21622,     0.21722,     0.21822,     0.21922,     0.22022,     0.22122,     0.22222,     0.22322,     0.22422,     0.22523,     0.22623,     0.22723,     0.22823,     0.22923,     0.23023,     0.23123,     0.23223,     0.23323,     0.23423,     0.23524,     0.23624,     0.23724,     0.23824,     0.23924,\n",
       "           0.24024,     0.24124,     0.24224,     0.24324,     0.24424,     0.24525,     0.24625,     0.24725,     0.24825,     0.24925,     0.25025,     0.25125,     0.25225,     0.25325,     0.25425,     0.25526,     0.25626,     0.25726,     0.25826,     0.25926,     0.26026,     0.26126,     0.26226,     0.26326,\n",
       "           0.26426,     0.26527,     0.26627,     0.26727,     0.26827,     0.26927,     0.27027,     0.27127,     0.27227,     0.27327,     0.27427,     0.27528,     0.27628,     0.27728,     0.27828,     0.27928,     0.28028,     0.28128,     0.28228,     0.28328,     0.28428,     0.28529,     0.28629,     0.28729,\n",
       "           0.28829,     0.28929,     0.29029,     0.29129,     0.29229,     0.29329,     0.29429,      0.2953,      0.2963,      0.2973,      0.2983,      0.2993,      0.3003,      0.3013,      0.3023,      0.3033,      0.3043,     0.30531,     0.30631,     0.30731,     0.30831,     0.30931,     0.31031,     0.31131,\n",
       "           0.31231,     0.31331,     0.31431,     0.31532,     0.31632,     0.31732,     0.31832,     0.31932,     0.32032,     0.32132,     0.32232,     0.32332,     0.32432,     0.32533,     0.32633,     0.32733,     0.32833,     0.32933,     0.33033,     0.33133,     0.33233,     0.33333,     0.33433,     0.33534,\n",
       "           0.33634,     0.33734,     0.33834,     0.33934,     0.34034,     0.34134,     0.34234,     0.34334,     0.34434,     0.34535,     0.34635,     0.34735,     0.34835,     0.34935,     0.35035,     0.35135,     0.35235,     0.35335,     0.35435,     0.35536,     0.35636,     0.35736,     0.35836,     0.35936,\n",
       "           0.36036,     0.36136,     0.36236,     0.36336,     0.36436,     0.36537,     0.36637,     0.36737,     0.36837,     0.36937,     0.37037,     0.37137,     0.37237,     0.37337,     0.37437,     0.37538,     0.37638,     0.37738,     0.37838,     0.37938,     0.38038,     0.38138,     0.38238,     0.38338,\n",
       "           0.38438,     0.38539,     0.38639,     0.38739,     0.38839,     0.38939,     0.39039,     0.39139,     0.39239,     0.39339,     0.39439,      0.3954,      0.3964,      0.3974,      0.3984,      0.3994,      0.4004,      0.4014,      0.4024,      0.4034,      0.4044,     0.40541,     0.40641,     0.40741,\n",
       "           0.40841,     0.40941,     0.41041,     0.41141,     0.41241,     0.41341,     0.41441,     0.41542,     0.41642,     0.41742,     0.41842,     0.41942,     0.42042,     0.42142,     0.42242,     0.42342,     0.42442,     0.42543,     0.42643,     0.42743,     0.42843,     0.42943,     0.43043,     0.43143,\n",
       "           0.43243,     0.43343,     0.43443,     0.43544,     0.43644,     0.43744,     0.43844,     0.43944,     0.44044,     0.44144,     0.44244,     0.44344,     0.44444,     0.44545,     0.44645,     0.44745,     0.44845,     0.44945,     0.45045,     0.45145,     0.45245,     0.45345,     0.45445,     0.45546,\n",
       "           0.45646,     0.45746,     0.45846,     0.45946,     0.46046,     0.46146,     0.46246,     0.46346,     0.46446,     0.46547,     0.46647,     0.46747,     0.46847,     0.46947,     0.47047,     0.47147,     0.47247,     0.47347,     0.47447,     0.47548,     0.47648,     0.47748,     0.47848,     0.47948,\n",
       "           0.48048,     0.48148,     0.48248,     0.48348,     0.48448,     0.48549,     0.48649,     0.48749,     0.48849,     0.48949,     0.49049,     0.49149,     0.49249,     0.49349,     0.49449,      0.4955,      0.4965,      0.4975,      0.4985,      0.4995,      0.5005,      0.5015,      0.5025,      0.5035,\n",
       "            0.5045,     0.50551,     0.50651,     0.50751,     0.50851,     0.50951,     0.51051,     0.51151,     0.51251,     0.51351,     0.51451,     0.51552,     0.51652,     0.51752,     0.51852,     0.51952,     0.52052,     0.52152,     0.52252,     0.52352,     0.52452,     0.52553,     0.52653,     0.52753,\n",
       "           0.52853,     0.52953,     0.53053,     0.53153,     0.53253,     0.53353,     0.53453,     0.53554,     0.53654,     0.53754,     0.53854,     0.53954,     0.54054,     0.54154,     0.54254,     0.54354,     0.54454,     0.54555,     0.54655,     0.54755,     0.54855,     0.54955,     0.55055,     0.55155,\n",
       "           0.55255,     0.55355,     0.55455,     0.55556,     0.55656,     0.55756,     0.55856,     0.55956,     0.56056,     0.56156,     0.56256,     0.56356,     0.56456,     0.56557,     0.56657,     0.56757,     0.56857,     0.56957,     0.57057,     0.57157,     0.57257,     0.57357,     0.57457,     0.57558,\n",
       "           0.57658,     0.57758,     0.57858,     0.57958,     0.58058,     0.58158,     0.58258,     0.58358,     0.58458,     0.58559,     0.58659,     0.58759,     0.58859,     0.58959,     0.59059,     0.59159,     0.59259,     0.59359,     0.59459,      0.5956,      0.5966,      0.5976,      0.5986,      0.5996,\n",
       "            0.6006,      0.6016,      0.6026,      0.6036,      0.6046,     0.60561,     0.60661,     0.60761,     0.60861,     0.60961,     0.61061,     0.61161,     0.61261,     0.61361,     0.61461,     0.61562,     0.61662,     0.61762,     0.61862,     0.61962,     0.62062,     0.62162,     0.62262,     0.62362,\n",
       "           0.62462,     0.62563,     0.62663,     0.62763,     0.62863,     0.62963,     0.63063,     0.63163,     0.63263,     0.63363,     0.63463,     0.63564,     0.63664,     0.63764,     0.63864,     0.63964,     0.64064,     0.64164,     0.64264,     0.64364,     0.64464,     0.64565,     0.64665,     0.64765,\n",
       "           0.64865,     0.64965,     0.65065,     0.65165,     0.65265,     0.65365,     0.65465,     0.65566,     0.65666,     0.65766,     0.65866,     0.65966,     0.66066,     0.66166,     0.66266,     0.66366,     0.66466,     0.66567,     0.66667,     0.66767,     0.66867,     0.66967,     0.67067,     0.67167,\n",
       "           0.67267,     0.67367,     0.67467,     0.67568,     0.67668,     0.67768,     0.67868,     0.67968,     0.68068,     0.68168,     0.68268,     0.68368,     0.68468,     0.68569,     0.68669,     0.68769,     0.68869,     0.68969,     0.69069,     0.69169,     0.69269,     0.69369,     0.69469,      0.6957,\n",
       "            0.6967,      0.6977,      0.6987,      0.6997,      0.7007,      0.7017,      0.7027,      0.7037,      0.7047,     0.70571,     0.70671,     0.70771,     0.70871,     0.70971,     0.71071,     0.71171,     0.71271,     0.71371,     0.71471,     0.71572,     0.71672,     0.71772,     0.71872,     0.71972,\n",
       "           0.72072,     0.72172,     0.72272,     0.72372,     0.72472,     0.72573,     0.72673,     0.72773,     0.72873,     0.72973,     0.73073,     0.73173,     0.73273,     0.73373,     0.73473,     0.73574,     0.73674,     0.73774,     0.73874,     0.73974,     0.74074,     0.74174,     0.74274,     0.74374,\n",
       "           0.74474,     0.74575,     0.74675,     0.74775,     0.74875,     0.74975,     0.75075,     0.75175,     0.75275,     0.75375,     0.75475,     0.75576,     0.75676,     0.75776,     0.75876,     0.75976,     0.76076,     0.76176,     0.76276,     0.76376,     0.76476,     0.76577,     0.76677,     0.76777,\n",
       "           0.76877,     0.76977,     0.77077,     0.77177,     0.77277,     0.77377,     0.77477,     0.77578,     0.77678,     0.77778,     0.77878,     0.77978,     0.78078,     0.78178,     0.78278,     0.78378,     0.78478,     0.78579,     0.78679,     0.78779,     0.78879,     0.78979,     0.79079,     0.79179,\n",
       "           0.79279,     0.79379,     0.79479,      0.7958,      0.7968,      0.7978,      0.7988,      0.7998,      0.8008,      0.8018,      0.8028,      0.8038,      0.8048,     0.80581,     0.80681,     0.80781,     0.80881,     0.80981,     0.81081,     0.81181,     0.81281,     0.81381,     0.81481,     0.81582,\n",
       "           0.81682,     0.81782,     0.81882,     0.81982,     0.82082,     0.82182,     0.82282,     0.82382,     0.82482,     0.82583,     0.82683,     0.82783,     0.82883,     0.82983,     0.83083,     0.83183,     0.83283,     0.83383,     0.83483,     0.83584,     0.83684,     0.83784,     0.83884,     0.83984,\n",
       "           0.84084,     0.84184,     0.84284,     0.84384,     0.84484,     0.84585,     0.84685,     0.84785,     0.84885,     0.84985,     0.85085,     0.85185,     0.85285,     0.85385,     0.85485,     0.85586,     0.85686,     0.85786,     0.85886,     0.85986,     0.86086,     0.86186,     0.86286,     0.86386,\n",
       "           0.86486,     0.86587,     0.86687,     0.86787,     0.86887,     0.86987,     0.87087,     0.87187,     0.87287,     0.87387,     0.87487,     0.87588,     0.87688,     0.87788,     0.87888,     0.87988,     0.88088,     0.88188,     0.88288,     0.88388,     0.88488,     0.88589,     0.88689,     0.88789,\n",
       "           0.88889,     0.88989,     0.89089,     0.89189,     0.89289,     0.89389,     0.89489,      0.8959,      0.8969,      0.8979,      0.8989,      0.8999,      0.9009,      0.9019,      0.9029,      0.9039,      0.9049,     0.90591,     0.90691,     0.90791,     0.90891,     0.90991,     0.91091,     0.91191,\n",
       "           0.91291,     0.91391,     0.91491,     0.91592,     0.91692,     0.91792,     0.91892,     0.91992,     0.92092,     0.92192,     0.92292,     0.92392,     0.92492,     0.92593,     0.92693,     0.92793,     0.92893,     0.92993,     0.93093,     0.93193,     0.93293,     0.93393,     0.93493,     0.93594,\n",
       "           0.93694,     0.93794,     0.93894,     0.93994,     0.94094,     0.94194,     0.94294,     0.94394,     0.94494,     0.94595,     0.94695,     0.94795,     0.94895,     0.94995,     0.95095,     0.95195,     0.95295,     0.95395,     0.95495,     0.95596,     0.95696,     0.95796,     0.95896,     0.95996,\n",
       "           0.96096,     0.96196,     0.96296,     0.96396,     0.96496,     0.96597,     0.96697,     0.96797,     0.96897,     0.96997,     0.97097,     0.97197,     0.97297,     0.97397,     0.97497,     0.97598,     0.97698,     0.97798,     0.97898,     0.97998,     0.98098,     0.98198,     0.98298,     0.98398,\n",
       "           0.98498,     0.98599,     0.98699,     0.98799,     0.98899,     0.98999,     0.99099,     0.99199,     0.99299,     0.99399,     0.99499,       0.996,       0.997,       0.998,       0.999,           1]), array([[   0.063354,    0.063354,    0.087183,     0.10623,     0.12185,     0.13631,     0.14878,     0.15949,      0.1696,     0.17943,     0.18823,     0.19721,     0.20467,     0.21147,     0.21883,     0.22578,     0.23129,     0.23816,     0.24374,     0.24977,     0.25549,     0.26066,      0.2645,\n",
       "            0.26854,     0.27305,     0.27826,     0.28176,     0.28536,     0.28852,     0.29253,     0.29658,     0.30054,     0.30313,     0.30689,     0.30963,     0.31317,     0.31631,     0.31974,     0.32296,     0.32528,     0.32871,     0.33111,     0.33395,     0.33708,     0.33909,     0.34211,\n",
       "            0.34473,     0.34687,     0.34989,     0.35197,     0.35384,     0.35647,     0.35857,     0.35957,     0.36178,     0.36511,     0.36717,     0.36943,     0.37223,     0.37428,     0.37565,     0.37862,     0.38103,     0.38253,     0.38403,     0.38621,     0.38795,     0.38964,     0.39331,\n",
       "            0.39498,     0.39741,     0.39915,     0.40072,     0.40305,     0.40515,     0.40641,     0.40851,     0.41051,     0.41273,     0.41442,     0.41623,     0.41804,     0.42013,     0.42195,     0.42363,     0.42654,     0.42846,     0.43016,     0.43108,     0.43255,     0.43397,     0.43575,\n",
       "            0.43727,     0.43868,     0.44052,     0.44282,     0.44458,     0.44607,     0.44699,     0.44811,     0.45072,     0.45276,     0.45414,     0.45519,     0.45572,     0.45694,     0.45865,      0.4603,     0.46204,     0.46297,     0.46455,     0.46556,     0.46697,      0.4676,     0.46834,\n",
       "            0.47025,     0.47114,     0.47211,     0.47408,     0.47587,     0.47734,     0.47854,      0.4806,     0.48207,     0.48401,     0.48535,     0.48672,     0.48788,     0.48873,     0.49011,     0.49136,     0.49249,     0.49418,     0.49475,     0.49565,     0.49663,     0.49779,     0.49967,\n",
       "             0.5009,     0.50177,     0.50273,     0.50334,     0.50409,     0.50507,     0.50624,     0.50741,     0.50879,     0.50999,     0.51081,     0.51257,     0.51442,     0.51525,     0.51663,     0.51806,     0.51948,     0.52072,     0.52296,     0.52382,     0.52458,     0.52505,     0.52691,\n",
       "              0.529,     0.53067,     0.53273,     0.53374,     0.53463,     0.53547,     0.53676,      0.5379,     0.53896,     0.54033,     0.54126,     0.54231,      0.5429,     0.54365,      0.5435,     0.54463,     0.54558,     0.54626,     0.54738,     0.54854,     0.54897,     0.54984,      0.5507,\n",
       "            0.55179,     0.55488,     0.55533,     0.55577,     0.55617,     0.55622,      0.5582,      0.5593,     0.56062,     0.56127,     0.56131,      0.5639,     0.56456,     0.56585,     0.56726,     0.56838,     0.56929,     0.57054,     0.57219,     0.57351,     0.57536,     0.57654,     0.57726,\n",
       "            0.57908,     0.57967,     0.58049,     0.58012,     0.58014,     0.58136,     0.58284,     0.58361,     0.58345,      0.5841,     0.58489,      0.5861,     0.58651,     0.58728,     0.58861,     0.58937,     0.59036,     0.59224,     0.59347,      0.5939,      0.5946,     0.59608,     0.59635,\n",
       "            0.59828,     0.59927,     0.59997,     0.60052,     0.60128,     0.60256,      0.6037,     0.60604,     0.60625,     0.60665,     0.60793,     0.60831,      0.6095,     0.60991,     0.61043,     0.61092,     0.61155,     0.61174,     0.61321,     0.61377,     0.61467,     0.61563,     0.61584,\n",
       "            0.61726,     0.61768,     0.61791,     0.61987,     0.61996,     0.62116,      0.6211,     0.62077,     0.62334,     0.62388,     0.62412,     0.62532,     0.62575,     0.62562,     0.62626,     0.62687,     0.62718,      0.6274,     0.62907,     0.62902,     0.63019,     0.63072,      0.6323,\n",
       "            0.63264,     0.63295,     0.63381,     0.63508,     0.63554,     0.63591,     0.63712,     0.63776,     0.63883,     0.63861,     0.63985,     0.64072,     0.64121,     0.64145,     0.64313,     0.64375,     0.64363,     0.64343,     0.64491,     0.64572,     0.64634,     0.64663,     0.64768,\n",
       "            0.64802,     0.64874,     0.64897,     0.64892,     0.65088,     0.65147,     0.65188,     0.65229,     0.65307,     0.65443,       0.655,     0.65543,     0.65563,     0.65743,     0.65799,     0.65826,     0.65886,     0.65933,     0.65992,     0.66012,     0.66002,     0.66006,     0.66049,\n",
       "            0.66052,     0.66184,     0.66448,     0.66533,     0.66521,     0.66542,     0.66659,     0.66685,     0.66705,     0.66803,      0.6692,     0.66962,     0.67029,     0.67235,      0.6721,     0.67262,     0.67302,     0.67363,     0.67404,     0.67469,     0.67495,     0.67522,     0.67529,\n",
       "            0.67561,     0.67601,     0.67708,     0.67753,     0.67791,     0.67887,      0.6801,     0.68167,     0.68163,     0.68222,     0.68262,     0.68283,     0.68305,      0.6834,     0.68502,     0.68526,     0.68559,     0.68526,     0.68531,     0.68579,     0.68625,     0.68714,     0.68841,\n",
       "             0.6883,     0.68954,     0.68992,      0.6899,     0.69098,     0.69119,     0.69177,     0.69347,     0.69381,     0.69391,      0.6945,     0.69581,     0.69649,     0.69732,     0.69722,     0.69726,     0.69765,     0.69935,     0.69995,     0.70098,     0.70218,     0.70319,     0.70304,\n",
       "            0.70339,      0.7038,     0.70437,     0.70528,     0.70583,     0.70691,     0.70853,     0.70851,     0.70922,     0.71033,     0.71033,     0.71238,     0.71339,     0.71331,     0.71394,     0.71417,     0.71556,     0.71604,     0.71725,     0.71847,     0.71876,     0.71904,     0.72082,\n",
       "            0.72062,     0.72041,     0.72069,     0.72079,     0.72103,     0.72239,      0.7238,     0.72409,     0.72425,     0.72439,     0.72499,     0.72521,     0.72494,     0.72543,     0.72538,     0.72684,     0.72734,     0.72746,     0.72709,     0.72691,     0.72678,     0.72832,     0.72902,\n",
       "            0.72927,     0.73068,     0.73217,     0.73231,     0.73332,     0.73347,     0.73458,     0.73484,     0.73479,      0.7347,     0.73516,     0.73552,     0.73601,     0.73717,      0.7375,     0.73776,      0.7378,     0.73794,     0.73849,     0.73906,     0.73953,     0.73967,     0.73986,\n",
       "            0.74034,     0.74138,     0.74256,     0.74219,     0.74225,     0.74338,     0.74354,     0.74384,     0.74352,     0.74329,     0.74356,     0.74348,     0.74475,     0.74504,     0.74521,     0.74502,     0.74637,      0.7466,     0.74746,     0.74837,      0.7491,     0.75108,     0.75149,\n",
       "            0.75272,     0.75262,      0.7529,     0.75413,     0.75452,     0.75546,     0.75567,     0.75625,     0.75648,     0.75815,     0.75861,     0.76033,     0.76119,     0.76065,      0.7601,     0.75973,     0.75992,     0.76166,       0.763,     0.76382,     0.76442,     0.76455,     0.76553,\n",
       "            0.76586,     0.76646,      0.7667,     0.76831,     0.76822,     0.76812,     0.76859,     0.76868,     0.76889,     0.76909,     0.76978,     0.77033,     0.77086,     0.77205,      0.7729,     0.77336,     0.77393,     0.77468,     0.77504,     0.77479,     0.77529,     0.77536,     0.77518,\n",
       "            0.77642,      0.7772,     0.77764,     0.77815,     0.77862,      0.7796,     0.77992,     0.78083,     0.78211,     0.78267,     0.78381,     0.78411,     0.78542,     0.78737,     0.78868,      0.7892,     0.78911,     0.78952,     0.78927,      0.7895,     0.79022,     0.79119,     0.79132,\n",
       "              0.792,     0.79205,     0.79196,     0.79295,     0.79535,     0.79536,     0.79586,     0.79568,     0.79618,     0.79582,      0.7953,     0.79459,     0.79441,     0.79597,     0.79804,     0.79851,     0.79887,     0.80005,     0.80036,     0.80125,     0.80125,     0.80177,     0.80258,\n",
       "            0.80294,     0.80469,     0.80524,     0.80566,     0.80636,      0.8078,      0.8084,     0.80879,     0.80828,     0.80937,     0.81011,     0.81117,     0.81155,     0.81291,     0.81299,     0.81248,     0.81376,     0.81475,     0.81699,     0.81663,     0.81612,     0.81661,     0.81719,\n",
       "             0.8182,     0.82032,     0.82028,     0.82197,     0.82223,     0.82283,     0.82403,     0.82507,     0.82524,     0.82778,      0.8287,     0.82946,     0.82986,     0.83137,     0.83184,      0.8328,     0.83327,     0.83403,     0.83458,       0.837,     0.83674,     0.83772,     0.83881,\n",
       "            0.83921,     0.83895,     0.83956,      0.8395,     0.83943,      0.8393,     0.83982,     0.84036,     0.84173,     0.84327,     0.84303,     0.84436,     0.84479,     0.84641,     0.84594,     0.84604,     0.84711,     0.84694,      0.8478,     0.84749,     0.84733,     0.84717,     0.84699,\n",
       "            0.84915,     0.84907,     0.84891,     0.84916,     0.85032,     0.85313,     0.85362,      0.8533,     0.85314,     0.85334,     0.85334,     0.85382,     0.85378,     0.85362,      0.8563,     0.85621,     0.85815,     0.85799,     0.85839,     0.85808,       0.858,     0.85775,     0.85697,\n",
       "            0.85686,     0.85766,     0.85734,      0.8582,     0.86064,     0.86081,     0.86137,      0.8635,     0.86436,     0.86417,     0.86576,     0.86848,      0.8684,     0.86921,     0.87006,     0.86976,     0.86966,     0.86922,     0.86875,     0.86907,     0.87098,     0.87108,     0.87342,\n",
       "            0.87446,     0.87443,     0.87428,     0.87582,     0.87737,     0.87716,     0.87811,     0.87776,     0.87738,      0.8783,     0.87886,     0.87856,     0.87824,     0.87802,     0.88083,     0.88093,     0.88078,     0.88256,     0.88246,     0.88408,     0.88518,     0.88511,     0.88452,\n",
       "            0.88419,     0.88404,     0.88825,      0.8879,     0.88774,     0.88846,     0.89212,     0.89181,     0.89156,     0.89146,     0.89134,     0.89195,     0.89304,     0.89294,     0.89284,     0.89356,     0.89359,      0.8943,     0.89382,     0.89777,     0.89862,     0.90099,     0.90085,\n",
       "            0.90222,     0.90242,     0.90213,     0.90279,     0.90476,     0.90556,     0.90646,     0.90915,     0.90988,     0.90959,       0.909,     0.90838,     0.90807,     0.90996,     0.91295,      0.9139,     0.91351,       0.913,     0.91281,     0.91378,     0.91354,     0.91326,     0.91324,\n",
       "            0.91665,     0.91922,     0.91902,     0.91838,     0.91832,     0.91926,     0.91917,     0.91892,     0.91863,     0.91967,     0.92036,     0.92197,     0.92376,     0.92582,     0.92539,     0.92478,     0.92459,     0.92444,     0.92391,     0.92376,     0.92487,     0.92599,     0.92579,\n",
       "             0.9253,      0.9251,     0.92671,     0.92652,     0.92588,     0.92569,     0.92974,     0.93211,     0.93162,      0.9331,     0.93259,     0.93219,     0.93181,     0.93286,     0.93354,     0.93328,     0.93281,     0.93251,     0.93244,     0.93209,     0.93198,     0.93151,     0.93424,\n",
       "            0.93593,     0.93812,     0.93877,      0.9417,     0.94289,     0.94285,      0.9462,     0.94743,     0.94807,     0.94972,     0.95135,     0.95102,     0.95051,     0.95035,     0.95206,      0.9515,     0.95138,     0.95212,     0.95336,     0.95466,     0.95526,     0.95494,     0.95692,\n",
       "            0.95685,     0.95869,     0.95807,     0.96004,     0.96214,      0.9616,     0.96147,     0.96116,     0.96308,     0.96272,     0.96237,     0.96206,     0.96089,     0.96066,     0.96021,     0.96019,     0.96207,     0.96153,     0.96148,     0.96144,     0.96213,     0.96366,     0.96327,\n",
       "            0.96312,     0.96586,     0.96533,     0.97098,     0.97387,     0.97335,     0.97307,     0.97279,      0.9727,     0.97231,     0.97212,     0.97162,      0.9711,     0.97078,     0.97012,     0.96989,     0.96942,     0.96894,     0.97252,     0.97219,     0.97171,     0.97075,     0.97048,\n",
       "            0.97036,     0.96985,     0.96891,     0.96862,      0.9679,     0.97143,     0.97584,     0.97554,     0.97523,     0.97459,     0.97393,     0.97336,     0.97317,     0.97262,     0.97119,      0.9705,     0.97028,      0.9694,     0.96917,      0.9687,     0.96857,     0.96799,       0.973,\n",
       "            0.97194,     0.97164,     0.97122,     0.96969,     0.96873,     0.96836,     0.96772,     0.96741,     0.97433,     0.97383,     0.97336,     0.97304,     0.98086,     0.98014,     0.98952,     0.98938,     0.98917,     0.98903,     0.98866,     0.98831,     0.98797,     0.98786,     0.98773,\n",
       "            0.98734,     0.98683,     0.98629,     0.98607,     0.98579,     0.98523,     0.98497,     0.98452,     0.98401,     0.98354,     0.98318,     0.98227,     0.98188,     0.98119,      0.9801,     0.97835,     0.97628,     0.97439,     0.97261,     0.97222,     0.97168,     0.98134,           1,\n",
       "                  1,           1,           1,           1,           1,           1,           1,           1,           1,           1,           1,           1,           1,           1,           1,           1,           1,           1,           1,           1,           1,           1,           1,\n",
       "                  1,           1,           1,           1,           1,           1,           1,           1,           1,           1,           1,           1,           1,           1,           1,           1,           1,           1,           1,           1,           1,           1,           1,\n",
       "                  1,           1,           1,           1,           1,           1,           1,           1,           1,           1,           1]]), 'Confidence', 'Precision'], [array([          0,    0.001001,    0.002002,    0.003003,    0.004004,    0.005005,    0.006006,    0.007007,    0.008008,    0.009009,     0.01001,    0.011011,    0.012012,    0.013013,    0.014014,    0.015015,    0.016016,    0.017017,    0.018018,    0.019019,     0.02002,    0.021021,    0.022022,    0.023023,\n",
       "          0.024024,    0.025025,    0.026026,    0.027027,    0.028028,    0.029029,     0.03003,    0.031031,    0.032032,    0.033033,    0.034034,    0.035035,    0.036036,    0.037037,    0.038038,    0.039039,     0.04004,    0.041041,    0.042042,    0.043043,    0.044044,    0.045045,    0.046046,    0.047047,\n",
       "          0.048048,    0.049049,     0.05005,    0.051051,    0.052052,    0.053053,    0.054054,    0.055055,    0.056056,    0.057057,    0.058058,    0.059059,     0.06006,    0.061061,    0.062062,    0.063063,    0.064064,    0.065065,    0.066066,    0.067067,    0.068068,    0.069069,     0.07007,    0.071071,\n",
       "          0.072072,    0.073073,    0.074074,    0.075075,    0.076076,    0.077077,    0.078078,    0.079079,     0.08008,    0.081081,    0.082082,    0.083083,    0.084084,    0.085085,    0.086086,    0.087087,    0.088088,    0.089089,     0.09009,    0.091091,    0.092092,    0.093093,    0.094094,    0.095095,\n",
       "          0.096096,    0.097097,    0.098098,    0.099099,      0.1001,      0.1011,      0.1021,      0.1031,      0.1041,     0.10511,     0.10611,     0.10711,     0.10811,     0.10911,     0.11011,     0.11111,     0.11211,     0.11311,     0.11411,     0.11512,     0.11612,     0.11712,     0.11812,     0.11912,\n",
       "           0.12012,     0.12112,     0.12212,     0.12312,     0.12412,     0.12513,     0.12613,     0.12713,     0.12813,     0.12913,     0.13013,     0.13113,     0.13213,     0.13313,     0.13413,     0.13514,     0.13614,     0.13714,     0.13814,     0.13914,     0.14014,     0.14114,     0.14214,     0.14314,\n",
       "           0.14414,     0.14515,     0.14615,     0.14715,     0.14815,     0.14915,     0.15015,     0.15115,     0.15215,     0.15315,     0.15415,     0.15516,     0.15616,     0.15716,     0.15816,     0.15916,     0.16016,     0.16116,     0.16216,     0.16316,     0.16416,     0.16517,     0.16617,     0.16717,\n",
       "           0.16817,     0.16917,     0.17017,     0.17117,     0.17217,     0.17317,     0.17417,     0.17518,     0.17618,     0.17718,     0.17818,     0.17918,     0.18018,     0.18118,     0.18218,     0.18318,     0.18418,     0.18519,     0.18619,     0.18719,     0.18819,     0.18919,     0.19019,     0.19119,\n",
       "           0.19219,     0.19319,     0.19419,      0.1952,      0.1962,      0.1972,      0.1982,      0.1992,      0.2002,      0.2012,      0.2022,      0.2032,      0.2042,     0.20521,     0.20621,     0.20721,     0.20821,     0.20921,     0.21021,     0.21121,     0.21221,     0.21321,     0.21421,     0.21522,\n",
       "           0.21622,     0.21722,     0.21822,     0.21922,     0.22022,     0.22122,     0.22222,     0.22322,     0.22422,     0.22523,     0.22623,     0.22723,     0.22823,     0.22923,     0.23023,     0.23123,     0.23223,     0.23323,     0.23423,     0.23524,     0.23624,     0.23724,     0.23824,     0.23924,\n",
       "           0.24024,     0.24124,     0.24224,     0.24324,     0.24424,     0.24525,     0.24625,     0.24725,     0.24825,     0.24925,     0.25025,     0.25125,     0.25225,     0.25325,     0.25425,     0.25526,     0.25626,     0.25726,     0.25826,     0.25926,     0.26026,     0.26126,     0.26226,     0.26326,\n",
       "           0.26426,     0.26527,     0.26627,     0.26727,     0.26827,     0.26927,     0.27027,     0.27127,     0.27227,     0.27327,     0.27427,     0.27528,     0.27628,     0.27728,     0.27828,     0.27928,     0.28028,     0.28128,     0.28228,     0.28328,     0.28428,     0.28529,     0.28629,     0.28729,\n",
       "           0.28829,     0.28929,     0.29029,     0.29129,     0.29229,     0.29329,     0.29429,      0.2953,      0.2963,      0.2973,      0.2983,      0.2993,      0.3003,      0.3013,      0.3023,      0.3033,      0.3043,     0.30531,     0.30631,     0.30731,     0.30831,     0.30931,     0.31031,     0.31131,\n",
       "           0.31231,     0.31331,     0.31431,     0.31532,     0.31632,     0.31732,     0.31832,     0.31932,     0.32032,     0.32132,     0.32232,     0.32332,     0.32432,     0.32533,     0.32633,     0.32733,     0.32833,     0.32933,     0.33033,     0.33133,     0.33233,     0.33333,     0.33433,     0.33534,\n",
       "           0.33634,     0.33734,     0.33834,     0.33934,     0.34034,     0.34134,     0.34234,     0.34334,     0.34434,     0.34535,     0.34635,     0.34735,     0.34835,     0.34935,     0.35035,     0.35135,     0.35235,     0.35335,     0.35435,     0.35536,     0.35636,     0.35736,     0.35836,     0.35936,\n",
       "           0.36036,     0.36136,     0.36236,     0.36336,     0.36436,     0.36537,     0.36637,     0.36737,     0.36837,     0.36937,     0.37037,     0.37137,     0.37237,     0.37337,     0.37437,     0.37538,     0.37638,     0.37738,     0.37838,     0.37938,     0.38038,     0.38138,     0.38238,     0.38338,\n",
       "           0.38438,     0.38539,     0.38639,     0.38739,     0.38839,     0.38939,     0.39039,     0.39139,     0.39239,     0.39339,     0.39439,      0.3954,      0.3964,      0.3974,      0.3984,      0.3994,      0.4004,      0.4014,      0.4024,      0.4034,      0.4044,     0.40541,     0.40641,     0.40741,\n",
       "           0.40841,     0.40941,     0.41041,     0.41141,     0.41241,     0.41341,     0.41441,     0.41542,     0.41642,     0.41742,     0.41842,     0.41942,     0.42042,     0.42142,     0.42242,     0.42342,     0.42442,     0.42543,     0.42643,     0.42743,     0.42843,     0.42943,     0.43043,     0.43143,\n",
       "           0.43243,     0.43343,     0.43443,     0.43544,     0.43644,     0.43744,     0.43844,     0.43944,     0.44044,     0.44144,     0.44244,     0.44344,     0.44444,     0.44545,     0.44645,     0.44745,     0.44845,     0.44945,     0.45045,     0.45145,     0.45245,     0.45345,     0.45445,     0.45546,\n",
       "           0.45646,     0.45746,     0.45846,     0.45946,     0.46046,     0.46146,     0.46246,     0.46346,     0.46446,     0.46547,     0.46647,     0.46747,     0.46847,     0.46947,     0.47047,     0.47147,     0.47247,     0.47347,     0.47447,     0.47548,     0.47648,     0.47748,     0.47848,     0.47948,\n",
       "           0.48048,     0.48148,     0.48248,     0.48348,     0.48448,     0.48549,     0.48649,     0.48749,     0.48849,     0.48949,     0.49049,     0.49149,     0.49249,     0.49349,     0.49449,      0.4955,      0.4965,      0.4975,      0.4985,      0.4995,      0.5005,      0.5015,      0.5025,      0.5035,\n",
       "            0.5045,     0.50551,     0.50651,     0.50751,     0.50851,     0.50951,     0.51051,     0.51151,     0.51251,     0.51351,     0.51451,     0.51552,     0.51652,     0.51752,     0.51852,     0.51952,     0.52052,     0.52152,     0.52252,     0.52352,     0.52452,     0.52553,     0.52653,     0.52753,\n",
       "           0.52853,     0.52953,     0.53053,     0.53153,     0.53253,     0.53353,     0.53453,     0.53554,     0.53654,     0.53754,     0.53854,     0.53954,     0.54054,     0.54154,     0.54254,     0.54354,     0.54454,     0.54555,     0.54655,     0.54755,     0.54855,     0.54955,     0.55055,     0.55155,\n",
       "           0.55255,     0.55355,     0.55455,     0.55556,     0.55656,     0.55756,     0.55856,     0.55956,     0.56056,     0.56156,     0.56256,     0.56356,     0.56456,     0.56557,     0.56657,     0.56757,     0.56857,     0.56957,     0.57057,     0.57157,     0.57257,     0.57357,     0.57457,     0.57558,\n",
       "           0.57658,     0.57758,     0.57858,     0.57958,     0.58058,     0.58158,     0.58258,     0.58358,     0.58458,     0.58559,     0.58659,     0.58759,     0.58859,     0.58959,     0.59059,     0.59159,     0.59259,     0.59359,     0.59459,      0.5956,      0.5966,      0.5976,      0.5986,      0.5996,\n",
       "            0.6006,      0.6016,      0.6026,      0.6036,      0.6046,     0.60561,     0.60661,     0.60761,     0.60861,     0.60961,     0.61061,     0.61161,     0.61261,     0.61361,     0.61461,     0.61562,     0.61662,     0.61762,     0.61862,     0.61962,     0.62062,     0.62162,     0.62262,     0.62362,\n",
       "           0.62462,     0.62563,     0.62663,     0.62763,     0.62863,     0.62963,     0.63063,     0.63163,     0.63263,     0.63363,     0.63463,     0.63564,     0.63664,     0.63764,     0.63864,     0.63964,     0.64064,     0.64164,     0.64264,     0.64364,     0.64464,     0.64565,     0.64665,     0.64765,\n",
       "           0.64865,     0.64965,     0.65065,     0.65165,     0.65265,     0.65365,     0.65465,     0.65566,     0.65666,     0.65766,     0.65866,     0.65966,     0.66066,     0.66166,     0.66266,     0.66366,     0.66466,     0.66567,     0.66667,     0.66767,     0.66867,     0.66967,     0.67067,     0.67167,\n",
       "           0.67267,     0.67367,     0.67467,     0.67568,     0.67668,     0.67768,     0.67868,     0.67968,     0.68068,     0.68168,     0.68268,     0.68368,     0.68468,     0.68569,     0.68669,     0.68769,     0.68869,     0.68969,     0.69069,     0.69169,     0.69269,     0.69369,     0.69469,      0.6957,\n",
       "            0.6967,      0.6977,      0.6987,      0.6997,      0.7007,      0.7017,      0.7027,      0.7037,      0.7047,     0.70571,     0.70671,     0.70771,     0.70871,     0.70971,     0.71071,     0.71171,     0.71271,     0.71371,     0.71471,     0.71572,     0.71672,     0.71772,     0.71872,     0.71972,\n",
       "           0.72072,     0.72172,     0.72272,     0.72372,     0.72472,     0.72573,     0.72673,     0.72773,     0.72873,     0.72973,     0.73073,     0.73173,     0.73273,     0.73373,     0.73473,     0.73574,     0.73674,     0.73774,     0.73874,     0.73974,     0.74074,     0.74174,     0.74274,     0.74374,\n",
       "           0.74474,     0.74575,     0.74675,     0.74775,     0.74875,     0.74975,     0.75075,     0.75175,     0.75275,     0.75375,     0.75475,     0.75576,     0.75676,     0.75776,     0.75876,     0.75976,     0.76076,     0.76176,     0.76276,     0.76376,     0.76476,     0.76577,     0.76677,     0.76777,\n",
       "           0.76877,     0.76977,     0.77077,     0.77177,     0.77277,     0.77377,     0.77477,     0.77578,     0.77678,     0.77778,     0.77878,     0.77978,     0.78078,     0.78178,     0.78278,     0.78378,     0.78478,     0.78579,     0.78679,     0.78779,     0.78879,     0.78979,     0.79079,     0.79179,\n",
       "           0.79279,     0.79379,     0.79479,      0.7958,      0.7968,      0.7978,      0.7988,      0.7998,      0.8008,      0.8018,      0.8028,      0.8038,      0.8048,     0.80581,     0.80681,     0.80781,     0.80881,     0.80981,     0.81081,     0.81181,     0.81281,     0.81381,     0.81481,     0.81582,\n",
       "           0.81682,     0.81782,     0.81882,     0.81982,     0.82082,     0.82182,     0.82282,     0.82382,     0.82482,     0.82583,     0.82683,     0.82783,     0.82883,     0.82983,     0.83083,     0.83183,     0.83283,     0.83383,     0.83483,     0.83584,     0.83684,     0.83784,     0.83884,     0.83984,\n",
       "           0.84084,     0.84184,     0.84284,     0.84384,     0.84484,     0.84585,     0.84685,     0.84785,     0.84885,     0.84985,     0.85085,     0.85185,     0.85285,     0.85385,     0.85485,     0.85586,     0.85686,     0.85786,     0.85886,     0.85986,     0.86086,     0.86186,     0.86286,     0.86386,\n",
       "           0.86486,     0.86587,     0.86687,     0.86787,     0.86887,     0.86987,     0.87087,     0.87187,     0.87287,     0.87387,     0.87487,     0.87588,     0.87688,     0.87788,     0.87888,     0.87988,     0.88088,     0.88188,     0.88288,     0.88388,     0.88488,     0.88589,     0.88689,     0.88789,\n",
       "           0.88889,     0.88989,     0.89089,     0.89189,     0.89289,     0.89389,     0.89489,      0.8959,      0.8969,      0.8979,      0.8989,      0.8999,      0.9009,      0.9019,      0.9029,      0.9039,      0.9049,     0.90591,     0.90691,     0.90791,     0.90891,     0.90991,     0.91091,     0.91191,\n",
       "           0.91291,     0.91391,     0.91491,     0.91592,     0.91692,     0.91792,     0.91892,     0.91992,     0.92092,     0.92192,     0.92292,     0.92392,     0.92492,     0.92593,     0.92693,     0.92793,     0.92893,     0.92993,     0.93093,     0.93193,     0.93293,     0.93393,     0.93493,     0.93594,\n",
       "           0.93694,     0.93794,     0.93894,     0.93994,     0.94094,     0.94194,     0.94294,     0.94394,     0.94494,     0.94595,     0.94695,     0.94795,     0.94895,     0.94995,     0.95095,     0.95195,     0.95295,     0.95395,     0.95495,     0.95596,     0.95696,     0.95796,     0.95896,     0.95996,\n",
       "           0.96096,     0.96196,     0.96296,     0.96396,     0.96496,     0.96597,     0.96697,     0.96797,     0.96897,     0.96997,     0.97097,     0.97197,     0.97297,     0.97397,     0.97497,     0.97598,     0.97698,     0.97798,     0.97898,     0.97998,     0.98098,     0.98198,     0.98298,     0.98398,\n",
       "           0.98498,     0.98599,     0.98699,     0.98799,     0.98899,     0.98999,     0.99099,     0.99199,     0.99299,     0.99399,     0.99499,       0.996,       0.997,       0.998,       0.999,           1]), array([[    0.84498,     0.84498,     0.82967,      0.8177,     0.81053,     0.80478,         0.8,     0.79426,     0.79043,     0.78756,      0.7823,      0.7799,     0.77608,     0.77273,     0.76986,     0.76603,     0.76316,     0.76172,     0.75981,     0.75789,     0.75646,      0.7555,     0.75215,\n",
       "            0.75024,     0.74737,     0.74641,     0.74545,     0.74354,     0.74306,     0.74115,     0.73935,     0.73868,     0.73493,     0.73254,      0.7311,     0.72967,     0.72775,      0.7264,      0.7244,     0.72297,     0.72249,     0.72105,     0.72057,     0.71914,     0.71818,     0.71722,\n",
       "            0.71531,     0.71435,     0.71292,       0.711,     0.71005,     0.70909,     0.70665,     0.70478,     0.70287,     0.70287,     0.70144,         0.7,     0.69952,     0.69761,     0.69617,     0.69522,     0.69483,     0.69426,      0.6933,     0.69282,     0.69187,     0.69187,     0.69139,\n",
       "            0.68995,     0.68947,     0.68752,      0.6866,     0.68565,     0.68421,     0.68325,     0.68182,      0.6799,      0.6799,     0.67943,     0.67751,     0.67703,     0.67703,     0.67608,     0.67592,     0.67512,     0.67512,     0.67416,     0.67273,     0.67225,     0.66986,     0.66986,\n",
       "            0.66842,     0.66842,     0.66746,     0.66736,     0.66699,     0.66651,     0.66555,     0.66555,     0.66555,     0.66459,     0.66459,     0.66402,     0.66268,     0.66172,     0.66124,     0.65981,     0.65933,     0.65837,     0.65837,     0.65772,     0.65742,     0.65694,     0.65598,\n",
       "             0.6555,     0.65387,     0.65311,     0.65311,     0.65311,     0.65263,     0.65263,     0.65215,     0.65072,     0.65033,     0.64976,     0.64785,     0.64785,     0.64674,     0.64641,     0.64641,     0.64641,     0.64545,     0.64402,     0.64325,     0.64258,     0.64115,     0.64067,\n",
       "            0.64067,     0.64067,     0.64019,     0.63971,     0.63971,     0.63923,     0.63876,     0.63876,      0.6378,      0.6378,     0.63684,     0.63636,     0.63589,     0.63541,     0.63397,     0.63349,     0.63301,     0.63254,     0.63254,     0.63254,     0.63254,     0.63158,     0.63014,\n",
       "            0.63014,     0.63014,     0.63014,     0.62967,     0.62871,     0.62871,     0.62775,     0.62727,       0.627,     0.62632,     0.62584,     0.62584,     0.62584,      0.6244,     0.62264,     0.62147,     0.62105,     0.62057,      0.6201,     0.61962,     0.61914,     0.61818,     0.61722,\n",
       "            0.61675,     0.61627,     0.61579,     0.61531,     0.61435,     0.61388,      0.6134,      0.6134,      0.6134,     0.61334,     0.61159,       0.611,       0.611,       0.611,     0.60957,     0.60928,     0.60813,     0.60766,     0.60718,     0.60718,     0.60681,     0.60622,     0.60574,\n",
       "            0.60526,     0.60526,     0.60513,     0.60422,     0.60383,     0.60383,     0.60383,     0.60335,     0.60248,     0.60191,     0.60144,     0.60144,     0.60144,     0.60096,     0.60048,         0.6,     0.59952,     0.59952,     0.59952,     0.59952,     0.59952,     0.59947,     0.59904,\n",
       "            0.59856,     0.59856,     0.59856,     0.59843,     0.59761,     0.59761,     0.59761,     0.59761,     0.59713,     0.59713,     0.59713,     0.59713,     0.59665,     0.59623,     0.59617,     0.59617,     0.59617,     0.59569,     0.59522,     0.59474,     0.59378,     0.59378,     0.59378,\n",
       "             0.5933,      0.5933,     0.59282,     0.59282,     0.59241,     0.59234,      0.5898,     0.58819,     0.58753,     0.58565,     0.58517,     0.58469,     0.58321,     0.58288,      0.5823,     0.58182,     0.58182,     0.58182,      0.5818,     0.58134,     0.58086,     0.58038,      0.5799,\n",
       "            0.57943,     0.57943,     0.57895,     0.57847,     0.57847,     0.57847,     0.57795,     0.57751,     0.57751,     0.57663,     0.57608,     0.57608,     0.57608,     0.57608,     0.57512,     0.57464,     0.57381,     0.57329,     0.57266,     0.57207,     0.57177,     0.57177,     0.57177,\n",
       "            0.57129,     0.57129,     0.57081,     0.57043,     0.56986,     0.56938,     0.56938,     0.56938,     0.56842,     0.56794,     0.56746,     0.56746,     0.56699,     0.56651,     0.56603,     0.56555,     0.56507,     0.56459,     0.56459,     0.56411,     0.56289,     0.56268,     0.56172,\n",
       "            0.56137,     0.56124,     0.56077,     0.56025,     0.55997,     0.55953,     0.55865,     0.55837,     0.55789,     0.55789,     0.55789,     0.55762,     0.55694,     0.55694,     0.55607,     0.55541,     0.55502,     0.55455,     0.55455,     0.55373,     0.55359,     0.55307,     0.55215,\n",
       "            0.55207,     0.55167,      0.5512,      0.5512,     0.55085,     0.55024,     0.55024,      0.5502,     0.54976,      0.5488,      0.5488,     0.54801,     0.54785,     0.54739,     0.54737,     0.54689,     0.54566,     0.54483,      0.5445,      0.5445,     0.54419,     0.54402,     0.54335,\n",
       "            0.54307,     0.54306,     0.54294,     0.54258,     0.54244,     0.54189,     0.54163,     0.54163,     0.54163,     0.54127,     0.54067,     0.54067,     0.54019,     0.54012,     0.53988,     0.53923,     0.53923,     0.53923,     0.53876,     0.53876,     0.53876,     0.53876,     0.53807,\n",
       "             0.5378,     0.53774,     0.53684,     0.53684,     0.53684,     0.53684,     0.53684,     0.53614,     0.53565,     0.53541,     0.53503,     0.53493,     0.53493,     0.53452,     0.53445,     0.53445,     0.53301,     0.53301,     0.53254,     0.53206,     0.53158,     0.53143,     0.52998,\n",
       "            0.52944,     0.52888,     0.52839,     0.52823,     0.52823,     0.52823,     0.52787,     0.52738,     0.52679,     0.52632,     0.52584,     0.52529,      0.5244,     0.52336,     0.52297,     0.52297,     0.52297,     0.52235,     0.52138,     0.52089,      0.5201,      0.5201,     0.51962,\n",
       "            0.51962,     0.51962,     0.51927,     0.51866,     0.51866,      0.5177,     0.51722,     0.51722,     0.51701,     0.51677,     0.51675,     0.51629,     0.51627,     0.51531,     0.51483,     0.51483,     0.51431,     0.51333,     0.51292,     0.51224,      0.5108,     0.51053,     0.51029,\n",
       "            0.50885,     0.50813,     0.50787,      0.5069,     0.50622,     0.50592,     0.50495,     0.50478,     0.50349,     0.50239,     0.50239,     0.50202,     0.50144,     0.50056,     0.49959,      0.4991,     0.49856,     0.49764,     0.49713,     0.49665,     0.49569,      0.4952,     0.49474,\n",
       "            0.49374,      0.4933,     0.49276,     0.49139,     0.49091,     0.49043,     0.48947,     0.48839,     0.48708,     0.48597,     0.48517,     0.48517,     0.48498,     0.48353,     0.48209,     0.48112,     0.48086,     0.48086,      0.4806,     0.48038,     0.48038,     0.48009,      0.4796,\n",
       "            0.47943,     0.47943,     0.47847,     0.47799,     0.47733,     0.47708,     0.47703,     0.47656,     0.47656,     0.47656,     0.47516,     0.47512,     0.47322,     0.47321,     0.47224,     0.47177,     0.47174,     0.47033,      0.4698,      0.4689,     0.46882,     0.46737,     0.46688,\n",
       "            0.46651,     0.46399,      0.4635,     0.46268,      0.4622,     0.46172,     0.46172,     0.46124,     0.46124,     0.46007,     0.45885,     0.45789,     0.45789,     0.45789,     0.45713,     0.45679,     0.45655,     0.45646,     0.45517,     0.45455,     0.45419,     0.45322,     0.45215,\n",
       "            0.45215,     0.45195,     0.45171,     0.45077,     0.45072,     0.45003,     0.44954,     0.44905,     0.44856,     0.44759,     0.44614,     0.44422,     0.44373,     0.44306,     0.44306,     0.44306,     0.44306,     0.44223,     0.44163,     0.44019,      0.4398,     0.43931,     0.43876,\n",
       "            0.43876,      0.4378,     0.43732,     0.43638,     0.43636,     0.43636,     0.43589,     0.43514,     0.43369,     0.43349,     0.43349,     0.43301,     0.43301,     0.43301,     0.43266,     0.43121,      0.4311,     0.42967,     0.42967,     0.42829,     0.42685,     0.42612,     0.42563,\n",
       "            0.42536,     0.42488,     0.42368,     0.42297,      0.4227,     0.42221,     0.42124,     0.42057,     0.42026,     0.41857,     0.41664,     0.41627,     0.41627,     0.41517,      0.4142,     0.41388,      0.4137,     0.41292,     0.41292,     0.41292,     0.41198,     0.41005,     0.40957,\n",
       "            0.40955,     0.40861,     0.40812,     0.40792,     0.40772,     0.40734,     0.40718,     0.40622,     0.40526,     0.40478,     0.40345,     0.40191,     0.40191,     0.40078,     0.39933,     0.39856,     0.39766,     0.39715,     0.39713,     0.39616,     0.39567,     0.39518,     0.39465,\n",
       "            0.39426,     0.39299,      0.3925,     0.39058,     0.38947,     0.38565,     0.38504,     0.38407,     0.38358,      0.3823,      0.3814,     0.38038,     0.37994,     0.37945,      0.3792,     0.37751,     0.37631,     0.37582,     0.37413,     0.37318,     0.37294,     0.37218,      0.3698,\n",
       "            0.36948,     0.36904,     0.36807,     0.36699,     0.36555,     0.36396,     0.36364,     0.36322,     0.36316,     0.36224,     0.36103,     0.36018,     0.35993,     0.35932,     0.35883,     0.35787,     0.35755,     0.35616,     0.35472,     0.35359,     0.35206,     0.35167,     0.35167,\n",
       "            0.35072,     0.34986,     0.34937,     0.34641,     0.34576,     0.34508,     0.34498,     0.34357,     0.34236,     0.34187,     0.34018,     0.33921,     0.33821,     0.33752,     0.33732,      0.3363,      0.3358,     0.33439,     0.33406,     0.33301,     0.33199,     0.33175,     0.32984,\n",
       "            0.32878,     0.32829,     0.32708,     0.32592,     0.32539,     0.32394,     0.32249,     0.31945,     0.31865,     0.31832,     0.31675,     0.31675,     0.31558,     0.31526,     0.31493,     0.31329,     0.31244,     0.31171,     0.31015,     0.31005,     0.31005,     0.30915,     0.30866,\n",
       "            0.30718,     0.30532,     0.30432,     0.30216,     0.29999,     0.29809,     0.29809,     0.29685,     0.29468,     0.29364,     0.29155,     0.28938,     0.28831,     0.28529,     0.28469,     0.28441,     0.28299,     0.28118,     0.28051,     0.27943,     0.27807,     0.27706,     0.27464,\n",
       "            0.27368,     0.27223,     0.27151,      0.2692,     0.26794,     0.26695,     0.26662,     0.26571,     0.26364,     0.26295,     0.26268,     0.26268,     0.26086,     0.25679,     0.25517,     0.25293,     0.25225,     0.25171,     0.24981,      0.2493,     0.24737,     0.24544,     0.24472,\n",
       "              0.243,      0.2423,     0.24199,     0.24132,     0.23907,     0.23842,      0.2378,     0.23649,     0.23467,     0.23359,     0.23167,     0.23022,     0.22883,     0.22871,     0.22851,     0.22754,     0.22587,     0.22476,     0.22452,     0.22327,      0.2229,     0.22125,      0.2201,\n",
       "            0.21914,     0.21762,     0.21722,      0.2164,     0.21531,     0.21314,     0.21039,     0.21005,     0.20964,     0.20786,     0.20584,     0.20438,     0.20218,     0.20146,     0.19953,     0.19712,     0.19661,     0.19617,      0.1956,     0.19522,     0.19412,     0.19266,     0.19133,\n",
       "              0.191,     0.18876,     0.18587,     0.18393,     0.18238,     0.17974,     0.17907,     0.17761,     0.17472,     0.17299,     0.17132,     0.16986,     0.16457,     0.16359,     0.16165,     0.15933,     0.15778,     0.15547,     0.15528,     0.15508,     0.15263,     0.15227,     0.15059,\n",
       "            0.14996,     0.14889,     0.14656,     0.14408,     0.14268,     0.13979,     0.13833,     0.13687,     0.13637,     0.13443,     0.13345,     0.13103,     0.12862,     0.12716,     0.12426,     0.12328,     0.12134,     0.11941,     0.11854,     0.11709,     0.11503,     0.11118,     0.11012,\n",
       "            0.10963,     0.10775,     0.10438,      0.1034,     0.10098,    0.097611,     0.09663,    0.095432,    0.094189,    0.091773,    0.089357,    0.087419,     0.08676,    0.084979,    0.080649,    0.078711,    0.078099,    0.075792,    0.075205,    0.074052,    0.073725,    0.072347,    0.068974,\n",
       "           0.066293,    0.065577,    0.064596,    0.061222,    0.059285,    0.058578,     0.05737,     0.05682,    0.054475,    0.053423,    0.052442,    0.051807,    0.049045,    0.047238,     0.04517,    0.044582,    0.043686,    0.043123,    0.041724,    0.040468,    0.039284,    0.038924,    0.038518,\n",
       "            0.03731,    0.035839,    0.034415,    0.033877,    0.033195,    0.031916,    0.031364,    0.030432,    0.029451,    0.028589,    0.027968,    0.026509,    0.025922,    0.024953,    0.023566,    0.021628,    0.019691,    0.018206,    0.016992,    0.016747,     0.01642,    0.015789,    0.015241,\n",
       "           0.014546,    0.014056,     0.01319,    0.012752,    0.011828,    0.011632,    0.010945,      0.0107,     0.01024,   0.0094144,   0.0085012,   0.0081742,   0.0079189,   0.0076737,   0.0075042,   0.0073407,   0.0071772,    0.006981,   0.0067849,   0.0064239,   0.0060768,   0.0058315,   0.0055863,\n",
       "          0.0053411,   0.0045941,    0.004133,   0.0038877,   0.0030868,   0.0027752,   0.0026526,     0.00253,   0.0024074,    0.001962,   0.0018033,   0.0016807,   0.0015581,   0.0014355,   0.0011903,  0.00095415,  0.00089645,  0.00083875,  0.00078105,  0.00072335,  0.00066565,  0.00060795,  0.00055025,\n",
       "         0.00049256,           0,           0,           0,           0,           0,           0,           0,           0,           0,           0]]), 'Confidence', 'Recall']]\n",
       "fitness: 0.38160420963447994\n",
       "keys: ['metrics/precision(B)', 'metrics/recall(B)', 'metrics/mAP50(B)', 'metrics/mAP50-95(B)']\n",
       "maps: array([    0.35658])\n",
       "names: {0: 'person'}\n",
       "plot: True\n",
       "results_dict: {'metrics/precision(B)': 0.6973174276415645, 'metrics/recall(B)': 0.5401233170970013, 'metrics/mAP50(B)': 0.6068624078681433, 'metrics/mAP50-95(B)': 0.3565755209418507, 'fitness': 0.38160420963447994}\n",
       "save_dir: PosixPath('/home/insomnius/.pyenv/runs/detect/train11')\n",
       "speed: {'preprocess': 0.2406783103942871, 'inference': 9.172020435333252, 'loss': 0.006765842437744141, 'postprocess': 1.4036917686462402}\n",
       "task: 'detect'"
      ]
     },
     "execution_count": 8,
     "metadata": {},
     "output_type": "execute_result"
    }
   ],
   "source": [
    "results"
   ]
  },
  {
   "cell_type": "code",
   "execution_count": 9,
   "metadata": {},
   "outputs": [
    {
     "name": "stdout",
     "output_type": "stream",
     "text": [
      "Ultralytics YOLOv8.1.38 🚀 Python-3.11.6 torch-2.2.1+cu121 CUDA:0 (NVIDIA GeForce RTX 3050, 8192MiB)\n",
      "Model summary (fused): 218 layers, 25840339 parameters, 0 gradients, 78.7 GFLOPs\n",
      "\n",
      "\u001b[34m\u001b[1mPyTorch:\u001b[0m starting from '/home/insomnius/.pyenv/runs/detect/train11/weights/best.pt' with input shape (1, 3, 640, 640) BCHW and output shape(s) (1, 5, 8400) (49.6 MB)\n",
      "\n",
      "\u001b[34m\u001b[1mONNX:\u001b[0m starting export with onnx 1.15.0 opset 17...\n",
      "\u001b[34m\u001b[1mONNX:\u001b[0m export success ✅ 1.3s, saved as '/home/insomnius/.pyenv/runs/detect/train11/weights/best.onnx' (98.8 MB)\n",
      "\n",
      "Export complete (2.1s)\n",
      "Results saved to \u001b[1m/home/insomnius/.pyenv/runs/detect/train11/weights\u001b[0m\n",
      "Predict:         yolo predict task=detect model=/home/insomnius/.pyenv/runs/detect/train11/weights/best.onnx imgsz=640  \n",
      "Validate:        yolo val task=detect model=/home/insomnius/.pyenv/runs/detect/train11/weights/best.onnx imgsz=640 data=./yolov5-coco-datasets/dataset.yaml  \n",
      "Visualize:       https://netron.app\n"
     ]
    },
    {
     "data": {
      "text/plain": [
       "'/home/insomnius/.pyenv/runs/detect/train11/weights/best.onnx'"
      ]
     },
     "execution_count": 9,
     "metadata": {},
     "output_type": "execute_result"
    }
   ],
   "source": [
    "model.export(format='onnx')"
   ]
  }
 ],
 "metadata": {
  "kernelspec": {
   "display_name": "Python 3",
   "language": "python",
   "name": "python3"
  },
  "language_info": {
   "codemirror_mode": {
    "name": "ipython",
    "version": 3
   },
   "file_extension": ".py",
   "mimetype": "text/x-python",
   "name": "python",
   "nbconvert_exporter": "python",
   "pygments_lexer": "ipython3",
   "version": "3.11.6"
  }
 },
 "nbformat": 4,
 "nbformat_minor": 2
}
